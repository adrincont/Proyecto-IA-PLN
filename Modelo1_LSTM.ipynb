{
  "cells": [
    {
      "cell_type": "markdown",
      "metadata": {
        "id": "iHkYFOFNvqi-"
      },
      "source": [
        "# **Modelo 1 (Generacion de Poemas)**\n",
        "Andrey Duvan Rincon Torres\n",
        "\n",
        "---"
      ]
    },
    {
      "cell_type": "code",
      "source": [
        "pip install pytorch-lightning"
      ],
      "metadata": {
        "id": "bfIgLe48v3xw"
      },
      "execution_count": null,
      "outputs": []
    },
    {
      "cell_type": "code",
      "source": [
        "pip install pyyaml==5.4.1"
      ],
      "metadata": {
        "id": "4_fmt58fOP7g"
      },
      "execution_count": null,
      "outputs": []
    },
    {
      "cell_type": "code",
      "source": [
        "pip install plotly_express"
      ],
      "metadata": {
        "id": "hCyy-hRuOUBx"
      },
      "execution_count": null,
      "outputs": []
    },
    {
      "cell_type": "code",
      "source": [
        "pip install torchmetrics"
      ],
      "metadata": {
        "id": "8uF3ELUi5Ag1"
      },
      "execution_count": null,
      "outputs": []
    },
    {
      "cell_type": "code",
      "execution_count": 14,
      "metadata": {
        "id": "2SAgacGzvqjB"
      },
      "outputs": [],
      "source": [
        "# Basicas\n",
        "import pandas as pd\n",
        "import numpy as np\n",
        "# Graficas\n",
        "import plotly.express as plx\n",
        "import plotly.graph_objects as go\n",
        "# Pytorch\n",
        "import torch\n",
        "from torch import nn\n",
        "import pytorch_lightning as pl\n",
        "from torch.utils.data import Dataset, TensorDataset, DataLoader\n",
        "from torchmetrics.functional import accuracy\n",
        "# Sklearn\n",
        "from sklearn.model_selection import train_test_split\n",
        "from sklearn.preprocessing import OneHotEncoder\n",
        "# Texto\n",
        "from tensorflow.keras.preprocessing.text import Tokenizer\n",
        "from tensorflow.keras.preprocessing.sequence import pad_sequences\n",
        "def poem_to_string(poem):\n",
        "  return f'\\n{poem[\"title\"]}\\n{poem[\"author\"]}\\n{poem[\"content\"]}'\n",
        "def poem_sequence_to_string(poem_sequence):\n",
        "    poem_stringified = tokenizer.sequences_to_texts([poem_sequence])[0]\n",
        "    print(poem_stringified)\n",
        "CELoss = nn.CrossEntropyLoss()\n",
        "device = torch.device(\"cuda\" if torch.cuda.is_available() else \"cpu\")\n",
        "AVAIL_GPUS = min(1, torch.cuda.device_count())"
      ]
    },
    {
      "cell_type": "markdown",
      "source": [
        "# **Datos**"
      ],
      "metadata": {
        "id": "J1yX23FRe0yd"
      }
    },
    {
      "cell_type": "code",
      "source": [
        "url = 'https://raw.githubusercontent.com/andreamorgar/poesIA/master/data/poems.csv'\n",
        "poems_df = pd.read_csv(url)\n",
        "poems_df = poems_df.dropna()"
      ],
      "metadata": {
        "id": "1YLm8TDBezt-"
      },
      "execution_count": 6,
      "outputs": []
    },
    {
      "cell_type": "code",
      "source": [
        "# Filtrar poemas grandes\n",
        "poems_df['string'] = poems_df.apply(lambda row: f'\\n{row[\"title\"]}\\n\\n{row[\"author\"]}\\n\\n{row[\"content\"]}', axis=1)\n",
        "poems_df['length'] = poems_df.string.map(len)\n",
        "MAX_POEM_LENGTH=1000\n",
        "poems_filtered = poems_df[poems_df.length<MAX_POEM_LENGTH]\n",
        "poems_filtered"
      ],
      "metadata": {
        "id": "1g4lr7TxghDE",
        "outputId": "0962748b-a85b-4afb-967d-e73ecf7290ec",
        "colab": {
          "base_uri": "https://localhost:8080/",
          "height": 424
        }
      },
      "execution_count": 7,
      "outputs": [
        {
          "output_type": "execute_result",
          "data": {
            "text/plain": [
              "                       author  \\\n",
              "1             Marilina Rébora   \n",
              "2             Antonio Colinas   \n",
              "3         José María Hinojosa   \n",
              "4     Rubén Izaguirre Fiallos   \n",
              "5       Leopoldo María Panero   \n",
              "...                       ...   \n",
              "5127           Ángel González   \n",
              "5129    David Escobar Galindo   \n",
              "5130                  amistad   \n",
              "5131              Octavio Paz   \n",
              "5132       José Ángel Valente   \n",
              "\n",
              "                                                content  \\\n",
              "1     \\n\\nPorque si tú no velas, vendré como ladrón;...   \n",
              "2     \\n\\nPequeña de mis sueños, por tu piel las pal...   \n",
              "3     \\n\\nLos dedos de la nieve\\nrepiquetearon\\nen e...   \n",
              "4     Naciste en Armenia,\\npero te fuiste a vivir al...   \n",
              "5     \\n\\nOscuridad nieve buitres desespero oscurida...   \n",
              "...                                                 ...   \n",
              "5127  \\n\\nCruzas por el crepúsculo.\\nEl aire\\ntienes...   \n",
              "5129  \\n\\nNada es memoria: todo es invención.\\nLo qu...   \n",
              "5130  \\nFelicidad: Muy dentro de tí.\\nSerenidad: En ...   \n",
              "5131  \\nMis manos \\nabren las cortinas de tu ser \\nt...   \n",
              "5132  \\n\\nY ahora danos\\nuna muerte honorable,\\nviej...   \n",
              "\n",
              "                                      title  \\\n",
              "1                     PORQUE SI TÚ NO VELAS   \n",
              "2     POEMA DE LA BELLEZA CAUTIVA QUE PERDÍ   \n",
              "3                                 SENCILLEZ   \n",
              "4             Breve Carta a Consuelo Suncín   \n",
              "5                          PASADIZO SECRETO   \n",
              "...                                     ...   \n",
              "5127                                 BOSQUE   \n",
              "5129                        Nada es memoria   \n",
              "5130      Esto es todo lo que deseo para tí   \n",
              "5131                                 Palpar   \n",
              "5132                                EXORDIO   \n",
              "\n",
              "                                                 string  length  \n",
              "1     \\nPORQUE SI TÚ NO VELAS\\n\\nMarilina Rébora\\n\\n...     732  \n",
              "2     \\nPOEMA DE LA BELLEZA CAUTIVA QUE PERDÍ\\n\\nAnt...     662  \n",
              "3     \\nSENCILLEZ\\n\\nJosé María Hinojosa\\n\\n\\n\\nLos ...     273  \n",
              "4     \\nBreve Carta a Consuelo Suncín\\n\\nRubén Izagu...     416  \n",
              "5     \\nPASADIZO SECRETO\\n\\nLeopoldo María Panero\\n\\...     349  \n",
              "...                                                 ...     ...  \n",
              "5127  \\nBOSQUE\\n\\nÁngel González\\n\\n\\n\\nCruzas por e...     442  \n",
              "5129  \\nNada es memoria\\n\\nDavid Escobar Galindo\\n\\n...     258  \n",
              "5130  \\nEsto es todo lo que deseo para tí\\n\\namistad...     504  \n",
              "5131  \\nPalpar\\n\\nOctavio Paz\\n\\n\\nMis manos \\nabren...     173  \n",
              "5132  \\nEXORDIO\\n\\nJosé Ángel Valente\\n\\n\\n\\nY ahora...      98  \n",
              "\n",
              "[3688 rows x 5 columns]"
            ],
            "text/html": [
              "\n",
              "  <div id=\"df-2e1d8f30-62e8-4715-b20f-11d6f097e44a\">\n",
              "    <div class=\"colab-df-container\">\n",
              "      <div>\n",
              "<style scoped>\n",
              "    .dataframe tbody tr th:only-of-type {\n",
              "        vertical-align: middle;\n",
              "    }\n",
              "\n",
              "    .dataframe tbody tr th {\n",
              "        vertical-align: top;\n",
              "    }\n",
              "\n",
              "    .dataframe thead th {\n",
              "        text-align: right;\n",
              "    }\n",
              "</style>\n",
              "<table border=\"1\" class=\"dataframe\">\n",
              "  <thead>\n",
              "    <tr style=\"text-align: right;\">\n",
              "      <th></th>\n",
              "      <th>author</th>\n",
              "      <th>content</th>\n",
              "      <th>title</th>\n",
              "      <th>string</th>\n",
              "      <th>length</th>\n",
              "    </tr>\n",
              "  </thead>\n",
              "  <tbody>\n",
              "    <tr>\n",
              "      <th>1</th>\n",
              "      <td>Marilina Rébora</td>\n",
              "      <td>\\n\\nPorque si tú no velas, vendré como ladrón;...</td>\n",
              "      <td>PORQUE SI TÚ NO VELAS</td>\n",
              "      <td>\\nPORQUE SI TÚ NO VELAS\\n\\nMarilina Rébora\\n\\n...</td>\n",
              "      <td>732</td>\n",
              "    </tr>\n",
              "    <tr>\n",
              "      <th>2</th>\n",
              "      <td>Antonio Colinas</td>\n",
              "      <td>\\n\\nPequeña de mis sueños, por tu piel las pal...</td>\n",
              "      <td>POEMA DE LA BELLEZA CAUTIVA QUE PERDÍ</td>\n",
              "      <td>\\nPOEMA DE LA BELLEZA CAUTIVA QUE PERDÍ\\n\\nAnt...</td>\n",
              "      <td>662</td>\n",
              "    </tr>\n",
              "    <tr>\n",
              "      <th>3</th>\n",
              "      <td>José María Hinojosa</td>\n",
              "      <td>\\n\\nLos dedos de la nieve\\nrepiquetearon\\nen e...</td>\n",
              "      <td>SENCILLEZ</td>\n",
              "      <td>\\nSENCILLEZ\\n\\nJosé María Hinojosa\\n\\n\\n\\nLos ...</td>\n",
              "      <td>273</td>\n",
              "    </tr>\n",
              "    <tr>\n",
              "      <th>4</th>\n",
              "      <td>Rubén Izaguirre Fiallos</td>\n",
              "      <td>Naciste en Armenia,\\npero te fuiste a vivir al...</td>\n",
              "      <td>Breve Carta a Consuelo Suncín</td>\n",
              "      <td>\\nBreve Carta a Consuelo Suncín\\n\\nRubén Izagu...</td>\n",
              "      <td>416</td>\n",
              "    </tr>\n",
              "    <tr>\n",
              "      <th>5</th>\n",
              "      <td>Leopoldo María Panero</td>\n",
              "      <td>\\n\\nOscuridad nieve buitres desespero oscurida...</td>\n",
              "      <td>PASADIZO SECRETO</td>\n",
              "      <td>\\nPASADIZO SECRETO\\n\\nLeopoldo María Panero\\n\\...</td>\n",
              "      <td>349</td>\n",
              "    </tr>\n",
              "    <tr>\n",
              "      <th>...</th>\n",
              "      <td>...</td>\n",
              "      <td>...</td>\n",
              "      <td>...</td>\n",
              "      <td>...</td>\n",
              "      <td>...</td>\n",
              "    </tr>\n",
              "    <tr>\n",
              "      <th>5127</th>\n",
              "      <td>Ángel González</td>\n",
              "      <td>\\n\\nCruzas por el crepúsculo.\\nEl aire\\ntienes...</td>\n",
              "      <td>BOSQUE</td>\n",
              "      <td>\\nBOSQUE\\n\\nÁngel González\\n\\n\\n\\nCruzas por e...</td>\n",
              "      <td>442</td>\n",
              "    </tr>\n",
              "    <tr>\n",
              "      <th>5129</th>\n",
              "      <td>David Escobar Galindo</td>\n",
              "      <td>\\n\\nNada es memoria: todo es invención.\\nLo qu...</td>\n",
              "      <td>Nada es memoria</td>\n",
              "      <td>\\nNada es memoria\\n\\nDavid Escobar Galindo\\n\\n...</td>\n",
              "      <td>258</td>\n",
              "    </tr>\n",
              "    <tr>\n",
              "      <th>5130</th>\n",
              "      <td>amistad</td>\n",
              "      <td>\\nFelicidad: Muy dentro de tí.\\nSerenidad: En ...</td>\n",
              "      <td>Esto es todo lo que deseo para tí</td>\n",
              "      <td>\\nEsto es todo lo que deseo para tí\\n\\namistad...</td>\n",
              "      <td>504</td>\n",
              "    </tr>\n",
              "    <tr>\n",
              "      <th>5131</th>\n",
              "      <td>Octavio Paz</td>\n",
              "      <td>\\nMis manos \\nabren las cortinas de tu ser \\nt...</td>\n",
              "      <td>Palpar</td>\n",
              "      <td>\\nPalpar\\n\\nOctavio Paz\\n\\n\\nMis manos \\nabren...</td>\n",
              "      <td>173</td>\n",
              "    </tr>\n",
              "    <tr>\n",
              "      <th>5132</th>\n",
              "      <td>José Ángel Valente</td>\n",
              "      <td>\\n\\nY ahora danos\\nuna muerte honorable,\\nviej...</td>\n",
              "      <td>EXORDIO</td>\n",
              "      <td>\\nEXORDIO\\n\\nJosé Ángel Valente\\n\\n\\n\\nY ahora...</td>\n",
              "      <td>98</td>\n",
              "    </tr>\n",
              "  </tbody>\n",
              "</table>\n",
              "<p>3688 rows × 5 columns</p>\n",
              "</div>\n",
              "      <button class=\"colab-df-convert\" onclick=\"convertToInteractive('df-2e1d8f30-62e8-4715-b20f-11d6f097e44a')\"\n",
              "              title=\"Convert this dataframe to an interactive table.\"\n",
              "              style=\"display:none;\">\n",
              "        \n",
              "  <svg xmlns=\"http://www.w3.org/2000/svg\" height=\"24px\"viewBox=\"0 0 24 24\"\n",
              "       width=\"24px\">\n",
              "    <path d=\"M0 0h24v24H0V0z\" fill=\"none\"/>\n",
              "    <path d=\"M18.56 5.44l.94 2.06.94-2.06 2.06-.94-2.06-.94-.94-2.06-.94 2.06-2.06.94zm-11 1L8.5 8.5l.94-2.06 2.06-.94-2.06-.94L8.5 2.5l-.94 2.06-2.06.94zm10 10l.94 2.06.94-2.06 2.06-.94-2.06-.94-.94-2.06-.94 2.06-2.06.94z\"/><path d=\"M17.41 7.96l-1.37-1.37c-.4-.4-.92-.59-1.43-.59-.52 0-1.04.2-1.43.59L10.3 9.45l-7.72 7.72c-.78.78-.78 2.05 0 2.83L4 21.41c.39.39.9.59 1.41.59.51 0 1.02-.2 1.41-.59l7.78-7.78 2.81-2.81c.8-.78.8-2.07 0-2.86zM5.41 20L4 18.59l7.72-7.72 1.47 1.35L5.41 20z\"/>\n",
              "  </svg>\n",
              "      </button>\n",
              "      \n",
              "  <style>\n",
              "    .colab-df-container {\n",
              "      display:flex;\n",
              "      flex-wrap:wrap;\n",
              "      gap: 12px;\n",
              "    }\n",
              "\n",
              "    .colab-df-convert {\n",
              "      background-color: #E8F0FE;\n",
              "      border: none;\n",
              "      border-radius: 50%;\n",
              "      cursor: pointer;\n",
              "      display: none;\n",
              "      fill: #1967D2;\n",
              "      height: 32px;\n",
              "      padding: 0 0 0 0;\n",
              "      width: 32px;\n",
              "    }\n",
              "\n",
              "    .colab-df-convert:hover {\n",
              "      background-color: #E2EBFA;\n",
              "      box-shadow: 0px 1px 2px rgba(60, 64, 67, 0.3), 0px 1px 3px 1px rgba(60, 64, 67, 0.15);\n",
              "      fill: #174EA6;\n",
              "    }\n",
              "\n",
              "    [theme=dark] .colab-df-convert {\n",
              "      background-color: #3B4455;\n",
              "      fill: #D2E3FC;\n",
              "    }\n",
              "\n",
              "    [theme=dark] .colab-df-convert:hover {\n",
              "      background-color: #434B5C;\n",
              "      box-shadow: 0px 1px 3px 1px rgba(0, 0, 0, 0.15);\n",
              "      filter: drop-shadow(0px 1px 2px rgba(0, 0, 0, 0.3));\n",
              "      fill: #FFFFFF;\n",
              "    }\n",
              "  </style>\n",
              "\n",
              "      <script>\n",
              "        const buttonEl =\n",
              "          document.querySelector('#df-2e1d8f30-62e8-4715-b20f-11d6f097e44a button.colab-df-convert');\n",
              "        buttonEl.style.display =\n",
              "          google.colab.kernel.accessAllowed ? 'block' : 'none';\n",
              "\n",
              "        async function convertToInteractive(key) {\n",
              "          const element = document.querySelector('#df-2e1d8f30-62e8-4715-b20f-11d6f097e44a');\n",
              "          const dataTable =\n",
              "            await google.colab.kernel.invokeFunction('convertToInteractive',\n",
              "                                                     [key], {});\n",
              "          if (!dataTable) return;\n",
              "\n",
              "          const docLinkHtml = 'Like what you see? Visit the ' +\n",
              "            '<a target=\"_blank\" href=https://colab.research.google.com/notebooks/data_table.ipynb>data table notebook</a>'\n",
              "            + ' to learn more about interactive tables.';\n",
              "          element.innerHTML = '';\n",
              "          dataTable['output_type'] = 'display_data';\n",
              "          await google.colab.output.renderOutput(dataTable, element);\n",
              "          const docLink = document.createElement('div');\n",
              "          docLink.innerHTML = docLinkHtml;\n",
              "          element.appendChild(docLink);\n",
              "        }\n",
              "      </script>\n",
              "    </div>\n",
              "  </div>\n",
              "  "
            ]
          },
          "metadata": {},
          "execution_count": 7
        }
      ]
    },
    {
      "cell_type": "code",
      "source": [
        "print(list(poems_filtered['string'])[0])"
      ],
      "metadata": {
        "id": "QRpHDSqjhS56",
        "outputId": "1e376905-a900-4830-efed-ee8b88f2dab0",
        "colab": {
          "base_uri": "https://localhost:8080/"
        }
      },
      "execution_count": 8,
      "outputs": [
        {
          "output_type": "stream",
          "name": "stdout",
          "text": [
            "\n",
            "PORQUE SI TÚ NO VELAS\n",
            "\n",
            "Marilina Rébora\n",
            "\n",
            "\n",
            "\n",
            "Porque si tú no velas, vendré como ladrón;\n",
            "he de llegar a ti sin que sepas la hora.\n",
            "Estate alerta, pues; vigila cada acción,\n",
            "y lo que has recibido y escuchado, memora.\n",
            "\n",
            "Aunque nombre de vivo posees, estás muerto;\n",
            "perfectas, ante Dios, no he encontrado tus obras.\n",
            "Consolídalas pronto o han de morir por cierto,\n",
            "si es que no te arrepientes y de otro modo obras.\n",
            "\n",
            "Yo soy El de las siete estrellas a su diestra;\n",
            "El que en los siete Espíritus de Dios, único, arde.\n",
            "Vestirá el que venciere de blancas vestiduras.\n",
            "Del libro de la vida, su nombre santa muestra\n",
            "jamás he de borrar, lo diré en las alturas.\n",
            "Vendré como ladrón: igual, temprano o tarde.\n",
            "Vendré como ladrón, de improviso o a oscuras.\n"
          ]
        }
      ]
    },
    {
      "cell_type": "markdown",
      "source": [
        "# **Vocabulary**"
      ],
      "metadata": {
        "id": "J11x0q3Jh4rS"
      }
    },
    {
      "cell_type": "code",
      "source": [
        "poems_string=poems_filtered.string\n",
        "STOP_SIGN = '␣'\n",
        "tokenizer = Tokenizer(char_level=True, filters='', lower=False, split='')\n",
        "tokenizer.fit_on_texts([STOP_SIGN])\n",
        "tokenizer.fit_on_texts(poems_string)\n",
        "total_words = len(tokenizer.word_index) + 1\n",
        "dataset_vectorized = tokenizer.texts_to_sequences(poems_string)\n",
        "max_sequence_len = max([len(x) for x in dataset_vectorized])\n",
        "data_train, data_val = train_test_split(dataset_vectorized, test_size = 0.1, random_state = 0,shuffle=True)\n",
        "# data_train = iter(data_train)\n",
        "# data_val = iter(data_val)"
      ],
      "metadata": {
        "id": "XG4xJ6Efh3oX"
      },
      "execution_count": 9,
      "outputs": []
    },
    {
      "cell_type": "markdown",
      "metadata": {
        "id": "LtPrf9w1vqjD"
      },
      "source": [
        "## **Modelo**"
      ]
    },
    {
      "cell_type": "code",
      "execution_count": 10,
      "metadata": {
        "id": "zhGdzUbEvqjD"
      },
      "outputs": [],
      "source": [
        "class Model(nn.Module):\n",
        "  # creamos la estructura de la red\n",
        "  def __init__(self):\n",
        "      super(Model,self).__init__()\n",
        "      # Embeding de las palabras\n",
        "      self.embedding = nn.Embedding(total_words, 100)\n",
        "      # Red Bidireccional\n",
        "      self.lstm_1 = nn.LSTM(100, 150, 1, batch_first=True, dropout = 0.2 , bidirectional = True)\n",
        "      # red LSTM\n",
        "      self.lstm_2 = nn.LSTM(300*(max_sequence_len - 1),100,1, batch_first=True)\n",
        "      # red perceptron\n",
        "      self.linear_1 = nn.Linear(100,1605)\n",
        "      self.linear_2 = nn.Linear(1605,total_words)\n",
        "      self.relu = nn.ReLU()\n",
        "      self.sofmax = nn.Softmax()\n",
        "  # definimos el comportamiento de las capas\n",
        "  def forward(self, x):\n",
        "      batch_size, channelsn = x.size()\n",
        "      x = self.embedding(x)\n",
        "      # layer LSTM bidirectional\n",
        "      out, (h_n, c_n) = self.lstm_1(x)\n",
        "      # layer LSTM\n",
        "      out, (h_n, c_n) = self.lstm_2(out.reshape((batch_size,-1)))\n",
        "      # capa de salida\n",
        "      out = self.relu(self.linear_1(out))\n",
        "      out = self.sofmax(self.linear_2(out))\n",
        "      return out"
      ]
    },
    {
      "cell_type": "markdown",
      "metadata": {
        "id": "LjuZpFfIvqjE"
      },
      "source": [
        "## **Datos**"
      ]
    },
    {
      "cell_type": "code",
      "execution_count": 16,
      "metadata": {
        "id": "P5ks3sNGvqjF"
      },
      "outputs": [],
      "source": [
        "# Operacion en un Batch\n",
        "def collate_batch(batch):\n",
        "    input_sequences = []\n",
        "    for line in batch:\n",
        "      token_list = line\n",
        "      for i in range(1, len(token_list)):\n",
        "        n_gram_sequence = token_list[:i+1]\n",
        "        input_sequences.append(n_gram_sequence)\n",
        "    input_sequences = np.array(pad_sequences(input_sequences, maxlen=max_sequence_len, padding='pre'))\n",
        "    predictors, label = input_sequences[:,:-1],input_sequences[:,-1]\n",
        "    label_list = torch.tensor(label, dtype=torch.int64)\n",
        "    text_list = torch.tensor(predictors, dtype=torch.int64)\n",
        "    return text_list.to(device), label_list.to(device)\n",
        "# Clase de los datos\n",
        "class DataModule(pl.LightningDataModule):\n",
        "  # Definimos un tamaño de lote en la calse\n",
        "  def __init__(self, batch_size = 32):\n",
        "      super(DataModule,self).__init__()\n",
        "      self.batch_size = batch_size\n",
        "  # Definimos el tratamiento de los datos\n",
        "  def setup(self, stage=None):\n",
        "    self.train_dataset = data_train\n",
        "    self.val_dataset = data_val\n",
        "  # Iterable de entrenamiento\n",
        "  def train_dataloader(self):\n",
        "      return DataLoader(self.train_dataset, batch_size=self.batch_size, collate_fn=collate_batch)\n",
        "  # Iterable de validacion\n",
        "  def val_dataloader(self):\n",
        "      return DataLoader(self.val_dataset, batch_size=self.batch_size, collate_fn=collate_batch)"
      ]
    },
    {
      "cell_type": "markdown",
      "metadata": {
        "id": "v4NBS67avqjG"
      },
      "source": [
        "## **Entrenamiento**"
      ]
    },
    {
      "cell_type": "code",
      "execution_count": 12,
      "metadata": {
        "id": "pZ5hav7dvqjG"
      },
      "outputs": [],
      "source": [
        "class Train(pl.LightningModule):\n",
        "    # creamos la estructura de la red\n",
        "    def __init__(self,model):\n",
        "        super().__init__()\n",
        "        self.model = model\n",
        "   # Paso de entrenamiento\n",
        "    def training_step(self, batch, batch_idx):\n",
        "        loss,acc = self._shared_eval_step(batch, batch_idx)\n",
        "        self.log(\"train_loss\", loss, prog_bar=True)\n",
        "        self.log(\"train_acc\", acc, prog_bar=True)\n",
        "        return loss\n",
        "    # Paso de validacion\n",
        "    def validation_step(self, batch, batch_idx):\n",
        "        loss,acc = self._shared_eval_step(batch, batch_idx)\n",
        "        self.log(\"val_loss\", loss, prog_bar=True)\n",
        "        self.log(\"val_acc\", acc, prog_bar=True)\n",
        "        return loss\n",
        "    # Funcion para evaluar el modelo y la perdida\n",
        "    def _shared_eval_step(self,batch,batch_idx):\n",
        "        x, y  = batch\n",
        "        y_hat = self.model(x)\n",
        "        loss = CELoss(y_hat, y.type(torch.LongTensor))\n",
        "        acc = accuracy(y_hat, y.type(torch.LongTensor))\n",
        "        return loss, acc\n",
        "    # Configuracion del optimizador\n",
        "    def configure_optimizers(self):\n",
        "        return torch.optim.Adam(self.model.parameters())"
      ]
    },
    {
      "cell_type": "markdown",
      "metadata": {
        "id": "Y-5vDOLSvqjH"
      },
      "source": [
        "##  Ajustar el modelo"
      ]
    },
    {
      "cell_type": "code",
      "execution_count": null,
      "metadata": {
        "id": "M0gQZdFIvqjH",
        "outputId": "e5b4ee8a-f9e9-4aae-fa73-24e711935361",
        "colab": {
          "base_uri": "https://localhost:8080/",
          "height": 416,
          "referenced_widgets": [
            "9c60d1a86959416392c172edcc6c7313",
            "861954fe0ac1488684518a2060635bb7",
            "43e2be62f79c4eecb149a8c80c82de2b",
            "6d63f27323ab4ff0b9d85472b6991bc8",
            "83c44fc7777342298ff5c1caef6c51f4",
            "ac27484b3682461c9952eb7cfd7b3be0",
            "b939288cc8e7459f858381b6cb3e4006",
            "dcbcecfa2f2145e29fe3c8c74d4d141f",
            "f268da6289d24f23a470b23b6acfcab5",
            "f11cf2c4f04f4ad1bdcc2c6a41217dfe",
            "c14a96866d35440da2777123b63e884a"
          ]
        }
      },
      "outputs": [
        {
          "output_type": "stream",
          "name": "stderr",
          "text": [
            "/usr/local/lib/python3.7/dist-packages/torch/nn/modules/rnn.py:65: UserWarning: dropout option adds dropout after all but last recurrent layer, so non-zero dropout expects num_layers greater than 1, but got dropout=0.2 and num_layers=1\n",
            "  \"num_layers={}\".format(dropout, num_layers))\n",
            "/usr/local/lib/python3.7/dist-packages/pytorch_lightning/trainer/connectors/callback_connector.py:97: LightningDeprecationWarning: Setting `Trainer(progress_bar_refresh_rate=20)` is deprecated in v1.5 and will be removed in v1.7. Please pass `pytorch_lightning.callbacks.progress.TQDMProgressBar` with `refresh_rate` directly to the Trainer's `callbacks` argument instead. Or, to disable the progress bar pass `enable_progress_bar = False` to the Trainer.\n",
            "  f\"Setting `Trainer(progress_bar_refresh_rate={progress_bar_refresh_rate})` is deprecated in v1.5 and\"\n",
            "GPU available: True, used: False\n",
            "TPU available: False, using: 0 TPU cores\n",
            "IPU available: False, using: 0 IPUs\n",
            "HPU available: False, using: 0 HPUs\n",
            "/usr/local/lib/python3.7/dist-packages/pytorch_lightning/trainer/trainer.py:1817: PossibleUserWarning: GPU available but not used. Set `accelerator` and `devices` using `Trainer(accelerator='gpu', devices=1)`.\n",
            "  category=PossibleUserWarning,\n",
            "Missing logger folder: /content/lightning_logs\n",
            "\n",
            "  | Name  | Type  | Params\n",
            "--------------------------------\n",
            "0 | model | Model | 120 M \n",
            "--------------------------------\n",
            "120 M     Trainable params\n",
            "0         Non-trainable params\n",
            "120 M     Total params\n",
            "481.935   Total estimated model params size (MB)\n"
          ]
        },
        {
          "output_type": "display_data",
          "data": {
            "text/plain": [
              "Sanity Checking: 0it [00:00, ?it/s]"
            ],
            "application/vnd.jupyter.widget-view+json": {
              "version_major": 2,
              "version_minor": 0,
              "model_id": "9c60d1a86959416392c172edcc6c7313"
            }
          },
          "metadata": {}
        }
      ],
      "source": [
        "data_module = DataModule() # Ejecutamos modulo de datos\n",
        "torch.manual_seed(0)\n",
        "model = Model() # Ejecutamos modelo\n",
        "trainer = pl.Trainer(max_epochs=200, progress_bar_refresh_rate=20) # Lamamos el entrenador\n",
        "task = Train(model)\n",
        "trainer.fit(task,data_module)"
      ]
    },
    {
      "cell_type": "code",
      "source": [
        "# Tablero de resultados\n",
        "%load_ext tensorboard\n",
        "%tensorboard --logdir lightning_logs/"
      ],
      "metadata": {
        "id": "m-MKlW038Puk"
      },
      "execution_count": null,
      "outputs": []
    },
    {
      "cell_type": "markdown",
      "source": [
        "# **Generacion de texto**"
      ],
      "metadata": {
        "id": "v3MyAH9o7uww"
      }
    },
    {
      "cell_type": "code",
      "source": [
        "seed_text = \"Who are you, so too cruel?\"\n",
        "next_words = 100\n",
        "  \n",
        "for _ in range(next_words):\n",
        "    token_list = tokenizer.texts_to_sequences([seed_text])[0]\n",
        "    token_list = pad_sequences([token_list], maxlen=max_sequence_len-1, padding='pre')\n",
        "    predicted = model.forward(torch.tensor(token_list.astype(np.float32))).detach().numpy().transpose()[0]\n",
        "    output_word = \"\"\n",
        "    for word, index in tokenizer.word_index.items():\n",
        "        if index == predicted:\n",
        "            output_word = word\n",
        "            break\n",
        "    seed_text += \" \" + output_word\n",
        "print(seed_text)"
      ],
      "metadata": {
        "id": "6dHlDubE7tT2"
      },
      "execution_count": null,
      "outputs": []
    }
  ],
  "metadata": {
    "interpreter": {
      "hash": "94e7570899995adebab4ebab5cd3752e227f734c99b4f5f3f0d280f8bef09b63"
    },
    "kernelspec": {
      "display_name": "Python 3.9.7 ('IA')",
      "language": "python",
      "name": "python3"
    },
    "language_info": {
      "codemirror_mode": {
        "name": "ipython",
        "version": 3
      },
      "file_extension": ".py",
      "mimetype": "text/x-python",
      "name": "python",
      "nbconvert_exporter": "python",
      "pygments_lexer": "ipython3",
      "version": "3.9.7"
    },
    "orig_nbformat": 4,
    "colab": {
      "name": "Gasolina.ipynb",
      "provenance": []
    },
    "accelerator": "GPU",
    "widgets": {
      "application/vnd.jupyter.widget-state+json": {
        "9c60d1a86959416392c172edcc6c7313": {
          "model_module": "@jupyter-widgets/controls",
          "model_name": "HBoxModel",
          "model_module_version": "1.5.0",
          "state": {
            "_dom_classes": [],
            "_model_module": "@jupyter-widgets/controls",
            "_model_module_version": "1.5.0",
            "_model_name": "HBoxModel",
            "_view_count": null,
            "_view_module": "@jupyter-widgets/controls",
            "_view_module_version": "1.5.0",
            "_view_name": "HBoxView",
            "box_style": "",
            "children": [
              "IPY_MODEL_861954fe0ac1488684518a2060635bb7",
              "IPY_MODEL_43e2be62f79c4eecb149a8c80c82de2b",
              "IPY_MODEL_6d63f27323ab4ff0b9d85472b6991bc8"
            ],
            "layout": "IPY_MODEL_83c44fc7777342298ff5c1caef6c51f4"
          }
        },
        "861954fe0ac1488684518a2060635bb7": {
          "model_module": "@jupyter-widgets/controls",
          "model_name": "HTMLModel",
          "model_module_version": "1.5.0",
          "state": {
            "_dom_classes": [],
            "_model_module": "@jupyter-widgets/controls",
            "_model_module_version": "1.5.0",
            "_model_name": "HTMLModel",
            "_view_count": null,
            "_view_module": "@jupyter-widgets/controls",
            "_view_module_version": "1.5.0",
            "_view_name": "HTMLView",
            "description": "",
            "description_tooltip": null,
            "layout": "IPY_MODEL_ac27484b3682461c9952eb7cfd7b3be0",
            "placeholder": "​",
            "style": "IPY_MODEL_b939288cc8e7459f858381b6cb3e4006",
            "value": "Sanity Checking DataLoader 0:   0%"
          }
        },
        "43e2be62f79c4eecb149a8c80c82de2b": {
          "model_module": "@jupyter-widgets/controls",
          "model_name": "FloatProgressModel",
          "model_module_version": "1.5.0",
          "state": {
            "_dom_classes": [],
            "_model_module": "@jupyter-widgets/controls",
            "_model_module_version": "1.5.0",
            "_model_name": "FloatProgressModel",
            "_view_count": null,
            "_view_module": "@jupyter-widgets/controls",
            "_view_module_version": "1.5.0",
            "_view_name": "ProgressView",
            "bar_style": "",
            "description": "",
            "description_tooltip": null,
            "layout": "IPY_MODEL_dcbcecfa2f2145e29fe3c8c74d4d141f",
            "max": 2,
            "min": 0,
            "orientation": "horizontal",
            "style": "IPY_MODEL_f268da6289d24f23a470b23b6acfcab5",
            "value": 0
          }
        },
        "6d63f27323ab4ff0b9d85472b6991bc8": {
          "model_module": "@jupyter-widgets/controls",
          "model_name": "HTMLModel",
          "model_module_version": "1.5.0",
          "state": {
            "_dom_classes": [],
            "_model_module": "@jupyter-widgets/controls",
            "_model_module_version": "1.5.0",
            "_model_name": "HTMLModel",
            "_view_count": null,
            "_view_module": "@jupyter-widgets/controls",
            "_view_module_version": "1.5.0",
            "_view_name": "HTMLView",
            "description": "",
            "description_tooltip": null,
            "layout": "IPY_MODEL_f11cf2c4f04f4ad1bdcc2c6a41217dfe",
            "placeholder": "​",
            "style": "IPY_MODEL_c14a96866d35440da2777123b63e884a",
            "value": " 0/2 [00:00&lt;?, ?it/s]"
          }
        },
        "83c44fc7777342298ff5c1caef6c51f4": {
          "model_module": "@jupyter-widgets/base",
          "model_name": "LayoutModel",
          "model_module_version": "1.2.0",
          "state": {
            "_model_module": "@jupyter-widgets/base",
            "_model_module_version": "1.2.0",
            "_model_name": "LayoutModel",
            "_view_count": null,
            "_view_module": "@jupyter-widgets/base",
            "_view_module_version": "1.2.0",
            "_view_name": "LayoutView",
            "align_content": null,
            "align_items": null,
            "align_self": null,
            "border": null,
            "bottom": null,
            "display": "inline-flex",
            "flex": null,
            "flex_flow": "row wrap",
            "grid_area": null,
            "grid_auto_columns": null,
            "grid_auto_flow": null,
            "grid_auto_rows": null,
            "grid_column": null,
            "grid_gap": null,
            "grid_row": null,
            "grid_template_areas": null,
            "grid_template_columns": null,
            "grid_template_rows": null,
            "height": null,
            "justify_content": null,
            "justify_items": null,
            "left": null,
            "margin": null,
            "max_height": null,
            "max_width": null,
            "min_height": null,
            "min_width": null,
            "object_fit": null,
            "object_position": null,
            "order": null,
            "overflow": null,
            "overflow_x": null,
            "overflow_y": null,
            "padding": null,
            "right": null,
            "top": null,
            "visibility": null,
            "width": "100%"
          }
        },
        "ac27484b3682461c9952eb7cfd7b3be0": {
          "model_module": "@jupyter-widgets/base",
          "model_name": "LayoutModel",
          "model_module_version": "1.2.0",
          "state": {
            "_model_module": "@jupyter-widgets/base",
            "_model_module_version": "1.2.0",
            "_model_name": "LayoutModel",
            "_view_count": null,
            "_view_module": "@jupyter-widgets/base",
            "_view_module_version": "1.2.0",
            "_view_name": "LayoutView",
            "align_content": null,
            "align_items": null,
            "align_self": null,
            "border": null,
            "bottom": null,
            "display": null,
            "flex": null,
            "flex_flow": null,
            "grid_area": null,
            "grid_auto_columns": null,
            "grid_auto_flow": null,
            "grid_auto_rows": null,
            "grid_column": null,
            "grid_gap": null,
            "grid_row": null,
            "grid_template_areas": null,
            "grid_template_columns": null,
            "grid_template_rows": null,
            "height": null,
            "justify_content": null,
            "justify_items": null,
            "left": null,
            "margin": null,
            "max_height": null,
            "max_width": null,
            "min_height": null,
            "min_width": null,
            "object_fit": null,
            "object_position": null,
            "order": null,
            "overflow": null,
            "overflow_x": null,
            "overflow_y": null,
            "padding": null,
            "right": null,
            "top": null,
            "visibility": null,
            "width": null
          }
        },
        "b939288cc8e7459f858381b6cb3e4006": {
          "model_module": "@jupyter-widgets/controls",
          "model_name": "DescriptionStyleModel",
          "model_module_version": "1.5.0",
          "state": {
            "_model_module": "@jupyter-widgets/controls",
            "_model_module_version": "1.5.0",
            "_model_name": "DescriptionStyleModel",
            "_view_count": null,
            "_view_module": "@jupyter-widgets/base",
            "_view_module_version": "1.2.0",
            "_view_name": "StyleView",
            "description_width": ""
          }
        },
        "dcbcecfa2f2145e29fe3c8c74d4d141f": {
          "model_module": "@jupyter-widgets/base",
          "model_name": "LayoutModel",
          "model_module_version": "1.2.0",
          "state": {
            "_model_module": "@jupyter-widgets/base",
            "_model_module_version": "1.2.0",
            "_model_name": "LayoutModel",
            "_view_count": null,
            "_view_module": "@jupyter-widgets/base",
            "_view_module_version": "1.2.0",
            "_view_name": "LayoutView",
            "align_content": null,
            "align_items": null,
            "align_self": null,
            "border": null,
            "bottom": null,
            "display": null,
            "flex": "2",
            "flex_flow": null,
            "grid_area": null,
            "grid_auto_columns": null,
            "grid_auto_flow": null,
            "grid_auto_rows": null,
            "grid_column": null,
            "grid_gap": null,
            "grid_row": null,
            "grid_template_areas": null,
            "grid_template_columns": null,
            "grid_template_rows": null,
            "height": null,
            "justify_content": null,
            "justify_items": null,
            "left": null,
            "margin": null,
            "max_height": null,
            "max_width": null,
            "min_height": null,
            "min_width": null,
            "object_fit": null,
            "object_position": null,
            "order": null,
            "overflow": null,
            "overflow_x": null,
            "overflow_y": null,
            "padding": null,
            "right": null,
            "top": null,
            "visibility": null,
            "width": null
          }
        },
        "f268da6289d24f23a470b23b6acfcab5": {
          "model_module": "@jupyter-widgets/controls",
          "model_name": "ProgressStyleModel",
          "model_module_version": "1.5.0",
          "state": {
            "_model_module": "@jupyter-widgets/controls",
            "_model_module_version": "1.5.0",
            "_model_name": "ProgressStyleModel",
            "_view_count": null,
            "_view_module": "@jupyter-widgets/base",
            "_view_module_version": "1.2.0",
            "_view_name": "StyleView",
            "bar_color": null,
            "description_width": ""
          }
        },
        "f11cf2c4f04f4ad1bdcc2c6a41217dfe": {
          "model_module": "@jupyter-widgets/base",
          "model_name": "LayoutModel",
          "model_module_version": "1.2.0",
          "state": {
            "_model_module": "@jupyter-widgets/base",
            "_model_module_version": "1.2.0",
            "_model_name": "LayoutModel",
            "_view_count": null,
            "_view_module": "@jupyter-widgets/base",
            "_view_module_version": "1.2.0",
            "_view_name": "LayoutView",
            "align_content": null,
            "align_items": null,
            "align_self": null,
            "border": null,
            "bottom": null,
            "display": null,
            "flex": null,
            "flex_flow": null,
            "grid_area": null,
            "grid_auto_columns": null,
            "grid_auto_flow": null,
            "grid_auto_rows": null,
            "grid_column": null,
            "grid_gap": null,
            "grid_row": null,
            "grid_template_areas": null,
            "grid_template_columns": null,
            "grid_template_rows": null,
            "height": null,
            "justify_content": null,
            "justify_items": null,
            "left": null,
            "margin": null,
            "max_height": null,
            "max_width": null,
            "min_height": null,
            "min_width": null,
            "object_fit": null,
            "object_position": null,
            "order": null,
            "overflow": null,
            "overflow_x": null,
            "overflow_y": null,
            "padding": null,
            "right": null,
            "top": null,
            "visibility": null,
            "width": null
          }
        },
        "c14a96866d35440da2777123b63e884a": {
          "model_module": "@jupyter-widgets/controls",
          "model_name": "DescriptionStyleModel",
          "model_module_version": "1.5.0",
          "state": {
            "_model_module": "@jupyter-widgets/controls",
            "_model_module_version": "1.5.0",
            "_model_name": "DescriptionStyleModel",
            "_view_count": null,
            "_view_module": "@jupyter-widgets/base",
            "_view_module_version": "1.2.0",
            "_view_name": "StyleView",
            "description_width": ""
          }
        }
      }
    }
  },
  "nbformat": 4,
  "nbformat_minor": 0
}