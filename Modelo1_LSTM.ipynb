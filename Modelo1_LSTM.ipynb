{
  "cells": [
    {
      "cell_type": "markdown",
      "metadata": {
        "id": "iHkYFOFNvqi-"
      },
      "source": [
        "# **Modelo 1 (Generacion de Poemas)**\n",
        "Andrey Duvan Rincon Torres\n",
        "\n",
        "---"
      ]
    },
    {
      "cell_type": "code",
      "source": [
        "pip install pytorch-lightning"
      ],
      "metadata": {
        "id": "bfIgLe48v3xw"
      },
      "execution_count": null,
      "outputs": []
    },
    {
      "cell_type": "code",
      "source": [
        "pip install pyyaml==5.4.1"
      ],
      "metadata": {
        "id": "4_fmt58fOP7g"
      },
      "execution_count": null,
      "outputs": []
    },
    {
      "cell_type": "code",
      "source": [
        "pip install plotly_express"
      ],
      "metadata": {
        "id": "hCyy-hRuOUBx"
      },
      "execution_count": null,
      "outputs": []
    },
    {
      "cell_type": "code",
      "source": [
        "pip install torchmetrics"
      ],
      "metadata": {
        "id": "8uF3ELUi5Ag1"
      },
      "execution_count": null,
      "outputs": []
    },
    {
      "cell_type": "code",
      "execution_count": null,
      "metadata": {
        "id": "2SAgacGzvqjB"
      },
      "outputs": [],
      "source": [
        "# Basicas\n",
        "import pandas as pd\n",
        "import numpy as np\n",
        "# Graficas\n",
        "import plotly.express as plx\n",
        "import plotly.graph_objects as go\n",
        "# Pytorch\n",
        "import torch\n",
        "from torch import nn\n",
        "import pytorch_lightning as pl\n",
        "from torch.utils.data import Dataset, TensorDataset, DataLoader\n",
        "from torchmetrics.functional import accuracy\n",
        "# Sklearn\n",
        "from sklearn.model_selection import train_test_split\n",
        "from sklearn.preprocessing import OneHotEncoder\n",
        "# Texto\n",
        "from tensorflow.keras.preprocessing.text import Tokenizer\n",
        "from tensorflow.keras.preprocessing.sequence import pad_sequences\n",
        "def poem_to_string(poem):\n",
        "  return f'\\n{poem[\"title\"]}\\n{poem[\"author\"]}\\n{poem[\"content\"]}'\n",
        "def poem_sequence_to_string(poem_sequence):\n",
        "    poem_stringified = tokenizer.sequences_to_texts([poem_sequence])[0]\n",
        "    print(poem_stringified)\n",
        "CELoss = nn.CrossEntropyLoss()\n",
        "device = torch.device(\"cuda\" if torch.cuda.is_available() else \"cpu\")\n",
        "AVAIL_GPUS = min(1, torch.cuda.device_count())"
      ]
    },
    {
      "cell_type": "markdown",
      "source": [
        "# **Datos**"
      ],
      "metadata": {
        "id": "J1yX23FRe0yd"
      }
    },
    {
      "cell_type": "code",
      "source": [
        "url = 'https://raw.githubusercontent.com/andreamorgar/poesIA/master/data/poems.csv'\n",
        "poems_df = pd.read_csv(url)\n",
        "poems_df = poems_df.dropna()"
      ],
      "metadata": {
        "id": "1YLm8TDBezt-"
      },
      "execution_count": 7,
      "outputs": []
    },
    {
      "cell_type": "code",
      "source": [
        "# Filtrar poemas grandes\n",
        "poems_df['string'] = poems_df.apply(lambda row: f'\\n{row[\"title\"]}\\n\\n{row[\"author\"]}\\n\\n{row[\"content\"]}', axis=1)\n",
        "poems_df['length'] = poems_df.string.map(len)\n",
        "MAX_POEM_LENGTH=1000\n",
        "poems_filtered = poems_df[poems_df.length<MAX_POEM_LENGTH]\n",
        "_ , poems_filtered = train_test_split(poems_filtered, test_size = 0.1 ,shuffle=True)\n",
        "poems_filtered"
      ],
      "metadata": {
        "id": "1g4lr7TxghDE",
        "outputId": "3bdbe580-ca03-4296-fcf7-127c9257b6b1",
        "colab": {
          "base_uri": "https://localhost:8080/",
          "height": 424
        }
      },
      "execution_count": 10,
      "outputs": [
        {
          "output_type": "execute_result",
          "data": {
            "text/plain": [
              "                    author                                            content  \\\n",
              "4607     Toni García Arias  Si Dios me diese la oportunidad\\nde regresar a...   \n",
              "486       José Lezama Lima  \\n\\nSin dientes, pero con dientes\\ncomo sierra...   \n",
              "584           Pablo Neruda  Cien sonetos de amor\\n\\nPensé morir, sentí de ...   \n",
              "3795         Gerardo Diego  \\n\\nTú y tu desnudo sueño. No lo sabes.\\nDuerm...   \n",
              "4035       Mario Benedetti  \\nCuando el presidente, cualquier presidente\\n...   \n",
              "...                    ...                                                ...   \n",
              "827          Jaime Sabines  \\nNo hay más. Sólo mujer para alegrarnos,\\nsól...   \n",
              "1540      Luciano Castañón  Mueve mi madre\\nesta mi cuna.\\nEl mar da mied...   \n",
              "625   Carmen Conde Abellán  \\n\\nAcércate.\\nJunto a la noche te espero.\\n\\n...   \n",
              "1668       Mario Benedetti  \\nCompañera \\nusted sabe \\npuede contar \\nconm...   \n",
              "1633    Juan Ramón Jiménez  \\n\\nNo era nadie. El agua.\\n                 ...   \n",
              "\n",
              "                                    title  \\\n",
              "4607                               Pasado   \n",
              "486   RETRATO DE DON FRANCISCO DE QUEVEDO   \n",
              "584                  Cien sonetos de amor   \n",
              "3795                             INSOMNIO   \n",
              "4035                Ahora todo está claro   \n",
              "...                                   ...   \n",
              "827                No hay más, sólo mujer   \n",
              "1540                        Nana marinera   \n",
              "625                          OFRECIMIENTO   \n",
              "1668                     Hagamos un trato   \n",
              "1633                        LAS ILUSIONES   \n",
              "\n",
              "                                                 string  length  \n",
              "4607  \\nPasado\\n\\nToni García Arias\\n\\nSi Dios me di...     720  \n",
              "486   \\nRETRATO DE DON FRANCISCO DE QUEVEDO\\n\\nJosé ...     591  \n",
              "584   \\nCien sonetos de amor\\n\\nPablo Neruda\\n\\nCien...     655  \n",
              "3795  \\nINSOMNIO\\n\\nGerardo Diego\\n\\n\\n\\nTú y tu des...     578  \n",
              "4035  \\nAhora todo está claro\\n\\nMario Benedetti\\n\\n...     415  \n",
              "...                                                 ...     ...  \n",
              "827   \\nNo hay más, sólo mujer\\n\\nJaime Sabines\\n\\n\\...     389  \n",
              "1540  \\nNana marinera\\n\\nLuciano Castañón\\n\\nMueve ...     603  \n",
              "625   \\nOFRECIMIENTO\\n\\nCarmen Conde Abellán\\n\\n\\n\\n...     190  \n",
              "1668  \\nHagamos un trato\\n\\nMario Benedetti\\n\\n\\nCom...     767  \n",
              "1633  \\nLAS ILUSIONES\\n\\nJuan Ramón Jiménez\\n\\n\\n\\n...     586  \n",
              "\n",
              "[369 rows x 5 columns]"
            ],
            "text/html": [
              "\n",
              "  <div id=\"df-7c030188-b00e-4f01-8750-28fdc00fc1d7\">\n",
              "    <div class=\"colab-df-container\">\n",
              "      <div>\n",
              "<style scoped>\n",
              "    .dataframe tbody tr th:only-of-type {\n",
              "        vertical-align: middle;\n",
              "    }\n",
              "\n",
              "    .dataframe tbody tr th {\n",
              "        vertical-align: top;\n",
              "    }\n",
              "\n",
              "    .dataframe thead th {\n",
              "        text-align: right;\n",
              "    }\n",
              "</style>\n",
              "<table border=\"1\" class=\"dataframe\">\n",
              "  <thead>\n",
              "    <tr style=\"text-align: right;\">\n",
              "      <th></th>\n",
              "      <th>author</th>\n",
              "      <th>content</th>\n",
              "      <th>title</th>\n",
              "      <th>string</th>\n",
              "      <th>length</th>\n",
              "    </tr>\n",
              "  </thead>\n",
              "  <tbody>\n",
              "    <tr>\n",
              "      <th>4607</th>\n",
              "      <td>Toni García Arias</td>\n",
              "      <td>Si Dios me diese la oportunidad\\nde regresar a...</td>\n",
              "      <td>Pasado</td>\n",
              "      <td>\\nPasado\\n\\nToni García Arias\\n\\nSi Dios me di...</td>\n",
              "      <td>720</td>\n",
              "    </tr>\n",
              "    <tr>\n",
              "      <th>486</th>\n",
              "      <td>José Lezama Lima</td>\n",
              "      <td>\\n\\nSin dientes, pero con dientes\\ncomo sierra...</td>\n",
              "      <td>RETRATO DE DON FRANCISCO DE QUEVEDO</td>\n",
              "      <td>\\nRETRATO DE DON FRANCISCO DE QUEVEDO\\n\\nJosé ...</td>\n",
              "      <td>591</td>\n",
              "    </tr>\n",
              "    <tr>\n",
              "      <th>584</th>\n",
              "      <td>Pablo Neruda</td>\n",
              "      <td>Cien sonetos de amor\\n\\nPensé morir, sentí de ...</td>\n",
              "      <td>Cien sonetos de amor</td>\n",
              "      <td>\\nCien sonetos de amor\\n\\nPablo Neruda\\n\\nCien...</td>\n",
              "      <td>655</td>\n",
              "    </tr>\n",
              "    <tr>\n",
              "      <th>3795</th>\n",
              "      <td>Gerardo Diego</td>\n",
              "      <td>\\n\\nTú y tu desnudo sueño. No lo sabes.\\nDuerm...</td>\n",
              "      <td>INSOMNIO</td>\n",
              "      <td>\\nINSOMNIO\\n\\nGerardo Diego\\n\\n\\n\\nTú y tu des...</td>\n",
              "      <td>578</td>\n",
              "    </tr>\n",
              "    <tr>\n",
              "      <th>4035</th>\n",
              "      <td>Mario Benedetti</td>\n",
              "      <td>\\nCuando el presidente, cualquier presidente\\n...</td>\n",
              "      <td>Ahora todo está claro</td>\n",
              "      <td>\\nAhora todo está claro\\n\\nMario Benedetti\\n\\n...</td>\n",
              "      <td>415</td>\n",
              "    </tr>\n",
              "    <tr>\n",
              "      <th>...</th>\n",
              "      <td>...</td>\n",
              "      <td>...</td>\n",
              "      <td>...</td>\n",
              "      <td>...</td>\n",
              "      <td>...</td>\n",
              "    </tr>\n",
              "    <tr>\n",
              "      <th>827</th>\n",
              "      <td>Jaime Sabines</td>\n",
              "      <td>\\nNo hay más. Sólo mujer para alegrarnos,\\nsól...</td>\n",
              "      <td>No hay más, sólo mujer</td>\n",
              "      <td>\\nNo hay más, sólo mujer\\n\\nJaime Sabines\\n\\n\\...</td>\n",
              "      <td>389</td>\n",
              "    </tr>\n",
              "    <tr>\n",
              "      <th>1540</th>\n",
              "      <td>Luciano Castañón</td>\n",
              "      <td>Mueve mi madre\\nesta mi cuna.\\nEl mar da mied...</td>\n",
              "      <td>Nana marinera</td>\n",
              "      <td>\\nNana marinera\\n\\nLuciano Castañón\\n\\nMueve ...</td>\n",
              "      <td>603</td>\n",
              "    </tr>\n",
              "    <tr>\n",
              "      <th>625</th>\n",
              "      <td>Carmen Conde Abellán</td>\n",
              "      <td>\\n\\nAcércate.\\nJunto a la noche te espero.\\n\\n...</td>\n",
              "      <td>OFRECIMIENTO</td>\n",
              "      <td>\\nOFRECIMIENTO\\n\\nCarmen Conde Abellán\\n\\n\\n\\n...</td>\n",
              "      <td>190</td>\n",
              "    </tr>\n",
              "    <tr>\n",
              "      <th>1668</th>\n",
              "      <td>Mario Benedetti</td>\n",
              "      <td>\\nCompañera \\nusted sabe \\npuede contar \\nconm...</td>\n",
              "      <td>Hagamos un trato</td>\n",
              "      <td>\\nHagamos un trato\\n\\nMario Benedetti\\n\\n\\nCom...</td>\n",
              "      <td>767</td>\n",
              "    </tr>\n",
              "    <tr>\n",
              "      <th>1633</th>\n",
              "      <td>Juan Ramón Jiménez</td>\n",
              "      <td>\\n\\nNo era nadie. El agua.\\n                 ...</td>\n",
              "      <td>LAS ILUSIONES</td>\n",
              "      <td>\\nLAS ILUSIONES\\n\\nJuan Ramón Jiménez\\n\\n\\n\\n...</td>\n",
              "      <td>586</td>\n",
              "    </tr>\n",
              "  </tbody>\n",
              "</table>\n",
              "<p>369 rows × 5 columns</p>\n",
              "</div>\n",
              "      <button class=\"colab-df-convert\" onclick=\"convertToInteractive('df-7c030188-b00e-4f01-8750-28fdc00fc1d7')\"\n",
              "              title=\"Convert this dataframe to an interactive table.\"\n",
              "              style=\"display:none;\">\n",
              "        \n",
              "  <svg xmlns=\"http://www.w3.org/2000/svg\" height=\"24px\"viewBox=\"0 0 24 24\"\n",
              "       width=\"24px\">\n",
              "    <path d=\"M0 0h24v24H0V0z\" fill=\"none\"/>\n",
              "    <path d=\"M18.56 5.44l.94 2.06.94-2.06 2.06-.94-2.06-.94-.94-2.06-.94 2.06-2.06.94zm-11 1L8.5 8.5l.94-2.06 2.06-.94-2.06-.94L8.5 2.5l-.94 2.06-2.06.94zm10 10l.94 2.06.94-2.06 2.06-.94-2.06-.94-.94-2.06-.94 2.06-2.06.94z\"/><path d=\"M17.41 7.96l-1.37-1.37c-.4-.4-.92-.59-1.43-.59-.52 0-1.04.2-1.43.59L10.3 9.45l-7.72 7.72c-.78.78-.78 2.05 0 2.83L4 21.41c.39.39.9.59 1.41.59.51 0 1.02-.2 1.41-.59l7.78-7.78 2.81-2.81c.8-.78.8-2.07 0-2.86zM5.41 20L4 18.59l7.72-7.72 1.47 1.35L5.41 20z\"/>\n",
              "  </svg>\n",
              "      </button>\n",
              "      \n",
              "  <style>\n",
              "    .colab-df-container {\n",
              "      display:flex;\n",
              "      flex-wrap:wrap;\n",
              "      gap: 12px;\n",
              "    }\n",
              "\n",
              "    .colab-df-convert {\n",
              "      background-color: #E8F0FE;\n",
              "      border: none;\n",
              "      border-radius: 50%;\n",
              "      cursor: pointer;\n",
              "      display: none;\n",
              "      fill: #1967D2;\n",
              "      height: 32px;\n",
              "      padding: 0 0 0 0;\n",
              "      width: 32px;\n",
              "    }\n",
              "\n",
              "    .colab-df-convert:hover {\n",
              "      background-color: #E2EBFA;\n",
              "      box-shadow: 0px 1px 2px rgba(60, 64, 67, 0.3), 0px 1px 3px 1px rgba(60, 64, 67, 0.15);\n",
              "      fill: #174EA6;\n",
              "    }\n",
              "\n",
              "    [theme=dark] .colab-df-convert {\n",
              "      background-color: #3B4455;\n",
              "      fill: #D2E3FC;\n",
              "    }\n",
              "\n",
              "    [theme=dark] .colab-df-convert:hover {\n",
              "      background-color: #434B5C;\n",
              "      box-shadow: 0px 1px 3px 1px rgba(0, 0, 0, 0.15);\n",
              "      filter: drop-shadow(0px 1px 2px rgba(0, 0, 0, 0.3));\n",
              "      fill: #FFFFFF;\n",
              "    }\n",
              "  </style>\n",
              "\n",
              "      <script>\n",
              "        const buttonEl =\n",
              "          document.querySelector('#df-7c030188-b00e-4f01-8750-28fdc00fc1d7 button.colab-df-convert');\n",
              "        buttonEl.style.display =\n",
              "          google.colab.kernel.accessAllowed ? 'block' : 'none';\n",
              "\n",
              "        async function convertToInteractive(key) {\n",
              "          const element = document.querySelector('#df-7c030188-b00e-4f01-8750-28fdc00fc1d7');\n",
              "          const dataTable =\n",
              "            await google.colab.kernel.invokeFunction('convertToInteractive',\n",
              "                                                     [key], {});\n",
              "          if (!dataTable) return;\n",
              "\n",
              "          const docLinkHtml = 'Like what you see? Visit the ' +\n",
              "            '<a target=\"_blank\" href=https://colab.research.google.com/notebooks/data_table.ipynb>data table notebook</a>'\n",
              "            + ' to learn more about interactive tables.';\n",
              "          element.innerHTML = '';\n",
              "          dataTable['output_type'] = 'display_data';\n",
              "          await google.colab.output.renderOutput(dataTable, element);\n",
              "          const docLink = document.createElement('div');\n",
              "          docLink.innerHTML = docLinkHtml;\n",
              "          element.appendChild(docLink);\n",
              "        }\n",
              "      </script>\n",
              "    </div>\n",
              "  </div>\n",
              "  "
            ]
          },
          "metadata": {},
          "execution_count": 10
        }
      ]
    },
    {
      "cell_type": "code",
      "source": [
        "print(list(poems_filtered['string'])[0])"
      ],
      "metadata": {
        "id": "QRpHDSqjhS56",
        "outputId": "d07db969-e6ea-4baf-c5ed-6e80457ba2a0",
        "colab": {
          "base_uri": "https://localhost:8080/"
        }
      },
      "execution_count": 11,
      "outputs": [
        {
          "output_type": "stream",
          "name": "stdout",
          "text": [
            "\n",
            "Pasado\n",
            "\n",
            "Toni García Arias\n",
            "\n",
            "Si Dios me diese la oportunidad\n",
            "de regresar a mi pasado,\n",
            "no guardaría tantas lágrimas\n",
            "ni tantos besos.\n",
            "Salpicaría todas las mañanas con un verso nuevo\n",
            "que llevarme a los labios,\n",
            "me dejaría navegar salvaje\n",
            "donde antes me atenazaba el miedo,\n",
            "no amagaría aquel abrazo\n",
            "que se perdió por siempre\n",
            "en lo más profundo del reproche.\n",
            "Invadiría más a menudo tus noches\n",
            "y tus sábanas,\n",
            "asaltaría tu sonrisa\n",
            "para instalar mi bandera.\n",
            "No te dejaría marchar jamás\n",
            "de mis sueños, de mis miedos, de mis derrotas.\n",
            "\n",
            "Si Dios me diese la oportunidad\n",
            "de regresar a mi pasado,\n",
            "correría hacia él con más fuerza\n",
            "para que el tiempo,\n",
            "el siempre tiempo,\n",
            "no pudiese reconocerme,\n",
            "para que yo, al fin,\n",
            "no pudiese recordarme.\n"
          ]
        }
      ]
    },
    {
      "cell_type": "markdown",
      "source": [
        "# **Vocabulary**"
      ],
      "metadata": {
        "id": "J11x0q3Jh4rS"
      }
    },
    {
      "cell_type": "code",
      "source": [
        "poems_string=poems_filtered.string\n",
        "STOP_SIGN = '␣'\n",
        "tokenizer = Tokenizer(char_level=True, filters='', lower=False, split='')\n",
        "tokenizer.fit_on_texts([STOP_SIGN])\n",
        "tokenizer.fit_on_texts(poems_string)\n",
        "total_words = len(tokenizer.word_index) + 1\n",
        "dataset_vectorized = tokenizer.texts_to_sequences(poems_string)\n",
        "max_sequence_len = max([len(x) for x in dataset_vectorized])\n",
        "data_train, data_val = train_test_split(dataset_vectorized, test_size = 0.1, random_state = 0,shuffle=True)"
      ],
      "metadata": {
        "id": "XG4xJ6Efh3oX"
      },
      "execution_count": 12,
      "outputs": []
    },
    {
      "cell_type": "code",
      "source": [
        "def collate_batch(batch):\n",
        "    input_sequences = []\n",
        "    for line in batch:\n",
        "      token_list = line\n",
        "      for i in range(1, len(token_list)):\n",
        "        n_gram_sequence = token_list[:i+1]\n",
        "        input_sequences.append(n_gram_sequence)\n",
        "    input_sequences = np.array(pad_sequences(input_sequences, maxlen=max_sequence_len, padding='pre'))\n",
        "    predictors, label = input_sequences[:,:-1],input_sequences[:,-1]\n",
        "    label_list = torch.tensor(label, dtype=torch.int64)\n",
        "    text_list = torch.tensor(predictors, dtype=torch.int64)\n",
        "    return text_list, label_list\n",
        "x_train, y_train = collate_batch(data_train)\n",
        "x_val, y_val = collate_batch(data_val)"
      ],
      "metadata": {
        "id": "FpstnAQlNBfj"
      },
      "execution_count": 13,
      "outputs": []
    },
    {
      "cell_type": "markdown",
      "metadata": {
        "id": "LtPrf9w1vqjD"
      },
      "source": [
        "## **Modelo**"
      ]
    },
    {
      "cell_type": "code",
      "execution_count": 38,
      "metadata": {
        "id": "zhGdzUbEvqjD"
      },
      "outputs": [],
      "source": [
        "class Model(nn.Module):\n",
        "  # creamos la estructura de la red\n",
        "  def __init__(self):\n",
        "      super(Model,self).__init__()\n",
        "      # Embeding de las palabras\n",
        "      self.embedding = nn.Embedding(total_words, 100)\n",
        "      # Red Bidireccional\n",
        "      self.lstm_1 = nn.LSTM(100, 150, 1, batch_first=True, dropout = 0.2 , bidirectional = True)\n",
        "      # red LSTM\n",
        "      self.lstm_2 = nn.LSTM(300,100,1, batch_first=True)\n",
        "      # red perceptron\n",
        "      self.linear_1 = nn.Linear(100,1605)\n",
        "      self.linear_2 = nn.Linear(1605,total_words)\n",
        "      self.relu = nn.ReLU()\n",
        "      self.sofmax = nn.Softmax()\n",
        "  # definimos el comportamiento de las capas\n",
        "  def forward(self, x):\n",
        "      batch_size, channelsn = x.size()\n",
        "      x = self.embedding(x)\n",
        "      # layer LSTM bidirectional\n",
        "      out, (h_n, c_n) = self.lstm_1(x)\n",
        "      # layer LSTM\n",
        "      out, (h_n, c_n) = self.lstm_2(out)\n",
        "      out = torch.squeeze(h_n)\n",
        "      # capa de salida\n",
        "      out = self.relu(self.linear_1(out))\n",
        "      out = self.sofmax(self.linear_2(out))\n",
        "      return out"
      ]
    },
    {
      "cell_type": "markdown",
      "metadata": {
        "id": "LjuZpFfIvqjE"
      },
      "source": [
        "## **Datos**"
      ]
    },
    {
      "cell_type": "code",
      "execution_count": 40,
      "metadata": {
        "id": "P5ks3sNGvqjF"
      },
      "outputs": [],
      "source": [
        "# Clase de los datos\n",
        "class DataModule(pl.LightningDataModule):\n",
        "  # Definimos un tamaño de lote en la calse\n",
        "  def __init__(self, batch_size = 32):\n",
        "      super(DataModule,self).__init__()\n",
        "      self.batch_size = batch_size\n",
        "  # Definimos el tratamiento de los datos\n",
        "  def setup(self, stage=None):\n",
        "    self.train_dataset = TensorDataset(x_train,y_train)\n",
        "    self.val_dataset = TensorDataset(x_train,y_train)\n",
        "  # Iterable de entrenamiento\n",
        "  def train_dataloader(self):\n",
        "      return DataLoader(self.train_dataset, batch_size=self.batch_size)\n",
        "  # Iterable de validacion\n",
        "  def val_dataloader(self):\n",
        "      return DataLoader(self.val_dataset, batch_size=self.batch_size)"
      ]
    },
    {
      "cell_type": "markdown",
      "metadata": {
        "id": "v4NBS67avqjG"
      },
      "source": [
        "## **Entrenamiento**"
      ]
    },
    {
      "cell_type": "code",
      "execution_count": 41,
      "metadata": {
        "id": "pZ5hav7dvqjG"
      },
      "outputs": [],
      "source": [
        "class Train(pl.LightningModule):\n",
        "    # creamos la estructura de la red\n",
        "    def __init__(self,model):\n",
        "        super().__init__()\n",
        "        self.model = model\n",
        "   # Paso de entrenamiento\n",
        "    def training_step(self, batch, batch_idx):\n",
        "        loss,acc = self._shared_eval_step(batch, batch_idx)\n",
        "        self.log(\"train_loss\", loss, prog_bar=True)\n",
        "        self.log(\"train_acc\", acc, prog_bar=True)\n",
        "        return loss\n",
        "    # Paso de validacion\n",
        "    def validation_step(self, batch, batch_idx):\n",
        "        loss,acc = self._shared_eval_step(batch, batch_idx)\n",
        "        self.log(\"val_loss\", loss, prog_bar=True)\n",
        "        self.log(\"val_acc\", acc, prog_bar=True)\n",
        "        return loss\n",
        "    # Funcion para evaluar el modelo y la perdida\n",
        "    def _shared_eval_step(self,batch,batch_idx):\n",
        "        x, y  = batch\n",
        "        y_hat = self.model(x)\n",
        "        loss = CELoss(y_hat, y.type(torch.LongTensor))\n",
        "        acc = accuracy(y_hat, y.type(torch.LongTensor))\n",
        "        return loss, acc\n",
        "    # Configuracion del optimizador\n",
        "    def configure_optimizers(self):\n",
        "        return torch.optim.Adam(self.model.parameters())"
      ]
    },
    {
      "cell_type": "markdown",
      "metadata": {
        "id": "Y-5vDOLSvqjH"
      },
      "source": [
        "##  Ajustar el modelo"
      ]
    },
    {
      "cell_type": "code",
      "execution_count": 42,
      "metadata": {
        "id": "M0gQZdFIvqjH",
        "outputId": "688b4725-071c-4b18-b15e-0399c12b1ba0",
        "colab": {
          "base_uri": "https://localhost:8080/",
          "height": 468,
          "referenced_widgets": [
            "b3a7d40a5d804e4e9d974bbb6a902b93",
            "141441bb697041a1bf3ccf6efb06ae23",
            "0c8eca779a5f45cda7bdae2de1d613fa",
            "7fa326218f274981a56d58a4384e80f5",
            "0336f3efda714b918ec60746de2c2e2e",
            "f5fe668bcf75435b87d1e2c128fac7ef",
            "750c240c3a5b4cc5bb6fcc8e6bf3820f",
            "0ad44a0df130473a91e799c5d3ecd5c4",
            "f36dddd09b75477cb6ca2270761fadbe",
            "1be01262d0274557904be476aa28ab81",
            "7577d37f52a140e1bc0392300a69535f",
            "161f71be03e2480c95ca7431668f307e",
            "2114afadbf9a430f821302e6352e8390",
            "ba48a759d0384f3e87bac5b44925e86a",
            "7af534c484224e608f5f2e45b636d433",
            "8b8ea31a0dfc4dda9b89930b4638bc44",
            "f7702daf1f2646578be60f7d978a98d0",
            "57a4ffbf0de840c4aa743847e1bdb0b7",
            "dfdc0f194d104e7bbd1acdc83c068cab",
            "9a7b963d2a174e8b9576280ed21f07a3",
            "2e558fa8e1ef40f185a15d82444379a5",
            "9e92b71da0bc405592cb6ffeb2f87f7a"
          ]
        }
      },
      "outputs": [
        {
          "output_type": "stream",
          "name": "stderr",
          "text": [
            "/usr/local/lib/python3.7/dist-packages/torch/nn/modules/rnn.py:65: UserWarning: dropout option adds dropout after all but last recurrent layer, so non-zero dropout expects num_layers greater than 1, but got dropout=0.2 and num_layers=1\n",
            "  \"num_layers={}\".format(dropout, num_layers))\n",
            "/usr/local/lib/python3.7/dist-packages/pytorch_lightning/trainer/connectors/callback_connector.py:97: LightningDeprecationWarning: Setting `Trainer(progress_bar_refresh_rate=20)` is deprecated in v1.5 and will be removed in v1.7. Please pass `pytorch_lightning.callbacks.progress.TQDMProgressBar` with `refresh_rate` directly to the Trainer's `callbacks` argument instead. Or, to disable the progress bar pass `enable_progress_bar = False` to the Trainer.\n",
            "  f\"Setting `Trainer(progress_bar_refresh_rate={progress_bar_refresh_rate})` is deprecated in v1.5 and\"\n",
            "GPU available: True, used: False\n",
            "TPU available: False, using: 0 TPU cores\n",
            "IPU available: False, using: 0 IPUs\n",
            "HPU available: False, using: 0 HPUs\n",
            "/usr/local/lib/python3.7/dist-packages/pytorch_lightning/trainer/trainer.py:1817: PossibleUserWarning: GPU available but not used. Set `accelerator` and `devices` using `Trainer(accelerator='gpu', devices=1)`.\n",
            "  category=PossibleUserWarning,\n",
            "Missing logger folder: /content/lightning_logs\n",
            "\n",
            "  | Name  | Type  | Params\n",
            "--------------------------------\n",
            "0 | model | Model | 804 K \n",
            "--------------------------------\n",
            "804 K     Trainable params\n",
            "0         Non-trainable params\n",
            "804 K     Total params\n",
            "3.218     Total estimated model params size (MB)\n"
          ]
        },
        {
          "output_type": "display_data",
          "data": {
            "text/plain": [
              "Sanity Checking: 0it [00:00, ?it/s]"
            ],
            "application/vnd.jupyter.widget-view+json": {
              "version_major": 2,
              "version_minor": 0,
              "model_id": "b3a7d40a5d804e4e9d974bbb6a902b93"
            }
          },
          "metadata": {}
        },
        {
          "output_type": "stream",
          "name": "stderr",
          "text": [
            "/usr/local/lib/python3.7/dist-packages/ipykernel_launcher.py:27: UserWarning: Implicit dimension choice for softmax has been deprecated. Change the call to include dim=X as an argument.\n"
          ]
        },
        {
          "output_type": "display_data",
          "data": {
            "text/plain": [
              "Training: 0it [00:00, ?it/s]"
            ],
            "application/vnd.jupyter.widget-view+json": {
              "version_major": 2,
              "version_minor": 0,
              "model_id": "161f71be03e2480c95ca7431668f307e"
            }
          },
          "metadata": {}
        },
        {
          "output_type": "stream",
          "name": "stderr",
          "text": [
            "/usr/local/lib/python3.7/dist-packages/pytorch_lightning/trainer/trainer.py:726: UserWarning: Detected KeyboardInterrupt, attempting graceful shutdown...\n",
            "  rank_zero_warn(\"Detected KeyboardInterrupt, attempting graceful shutdown...\")\n"
          ]
        }
      ],
      "source": [
        "data_module = DataModule() # Ejecutamos modulo de datos\n",
        "torch.manual_seed(0)\n",
        "model = Model() # Ejecutamos modelo\n",
        "trainer = pl.Trainer(max_epochs=200, progress_bar_refresh_rate=20) # Lamamos el entrenador\n",
        "task = Train(model)\n",
        "trainer.fit(task,data_module)"
      ]
    },
    {
      "cell_type": "code",
      "source": [
        "# guardar modelo\n",
        "PATH = './checkpoint.pt'\n",
        "torch.save(model.state_dict(), PATH)"
      ],
      "metadata": {
        "id": "ErMD_hK7VSd2"
      },
      "execution_count": null,
      "outputs": []
    },
    {
      "cell_type": "code",
      "source": [
        "# Tablero de resultados\n",
        "%load_ext tensorboard\n",
        "%tensorboard --logdir lightning_logs/"
      ],
      "metadata": {
        "id": "m-MKlW038Puk"
      },
      "execution_count": null,
      "outputs": []
    },
    {
      "cell_type": "markdown",
      "source": [
        "# **Generacion de texto**"
      ],
      "metadata": {
        "id": "v3MyAH9o7uww"
      }
    },
    {
      "cell_type": "code",
      "source": [
        "seed_text = \"Who are you, so too cruel?\"\n",
        "next_words = 100\n",
        "  \n",
        "for _ in range(next_words):\n",
        "    token_list = tokenizer.texts_to_sequences([seed_text])[0]\n",
        "    token_list = pad_sequences([token_list], maxlen=max_sequence_len-1, padding='pre')\n",
        "    predicted = model.forward(torch.tensor(token_list.astype(np.float32))).detach().numpy().transpose()[0]\n",
        "    output_word = \"\"\n",
        "    for word, index in tokenizer.word_index.items():\n",
        "        if index == predicted:\n",
        "            output_word = word\n",
        "            break\n",
        "    seed_text += \" \" + output_word\n",
        "print(seed_text)"
      ],
      "metadata": {
        "id": "6dHlDubE7tT2"
      },
      "execution_count": null,
      "outputs": []
    }
  ],
  "metadata": {
    "interpreter": {
      "hash": "94e7570899995adebab4ebab5cd3752e227f734c99b4f5f3f0d280f8bef09b63"
    },
    "kernelspec": {
      "display_name": "Python 3.9.7 ('IA')",
      "language": "python",
      "name": "python3"
    },
    "language_info": {
      "codemirror_mode": {
        "name": "ipython",
        "version": 3
      },
      "file_extension": ".py",
      "mimetype": "text/x-python",
      "name": "python",
      "nbconvert_exporter": "python",
      "pygments_lexer": "ipython3",
      "version": "3.9.7"
    },
    "orig_nbformat": 4,
    "colab": {
      "name": "Gasolina.ipynb",
      "provenance": []
    },
    "accelerator": "GPU",
    "widgets": {
      "application/vnd.jupyter.widget-state+json": {
        "b3a7d40a5d804e4e9d974bbb6a902b93": {
          "model_module": "@jupyter-widgets/controls",
          "model_name": "HBoxModel",
          "model_module_version": "1.5.0",
          "state": {
            "_dom_classes": [],
            "_model_module": "@jupyter-widgets/controls",
            "_model_module_version": "1.5.0",
            "_model_name": "HBoxModel",
            "_view_count": null,
            "_view_module": "@jupyter-widgets/controls",
            "_view_module_version": "1.5.0",
            "_view_name": "HBoxView",
            "box_style": "",
            "children": [
              "IPY_MODEL_141441bb697041a1bf3ccf6efb06ae23",
              "IPY_MODEL_0c8eca779a5f45cda7bdae2de1d613fa",
              "IPY_MODEL_7fa326218f274981a56d58a4384e80f5"
            ],
            "layout": "IPY_MODEL_0336f3efda714b918ec60746de2c2e2e"
          }
        },
        "141441bb697041a1bf3ccf6efb06ae23": {
          "model_module": "@jupyter-widgets/controls",
          "model_name": "HTMLModel",
          "model_module_version": "1.5.0",
          "state": {
            "_dom_classes": [],
            "_model_module": "@jupyter-widgets/controls",
            "_model_module_version": "1.5.0",
            "_model_name": "HTMLModel",
            "_view_count": null,
            "_view_module": "@jupyter-widgets/controls",
            "_view_module_version": "1.5.0",
            "_view_name": "HTMLView",
            "description": "",
            "description_tooltip": null,
            "layout": "IPY_MODEL_f5fe668bcf75435b87d1e2c128fac7ef",
            "placeholder": "​",
            "style": "IPY_MODEL_750c240c3a5b4cc5bb6fcc8e6bf3820f",
            "value": "Sanity Checking DataLoader 0: 100%"
          }
        },
        "0c8eca779a5f45cda7bdae2de1d613fa": {
          "model_module": "@jupyter-widgets/controls",
          "model_name": "FloatProgressModel",
          "model_module_version": "1.5.0",
          "state": {
            "_dom_classes": [],
            "_model_module": "@jupyter-widgets/controls",
            "_model_module_version": "1.5.0",
            "_model_name": "FloatProgressModel",
            "_view_count": null,
            "_view_module": "@jupyter-widgets/controls",
            "_view_module_version": "1.5.0",
            "_view_name": "ProgressView",
            "bar_style": "",
            "description": "",
            "description_tooltip": null,
            "layout": "IPY_MODEL_0ad44a0df130473a91e799c5d3ecd5c4",
            "max": 2,
            "min": 0,
            "orientation": "horizontal",
            "style": "IPY_MODEL_f36dddd09b75477cb6ca2270761fadbe",
            "value": 2
          }
        },
        "7fa326218f274981a56d58a4384e80f5": {
          "model_module": "@jupyter-widgets/controls",
          "model_name": "HTMLModel",
          "model_module_version": "1.5.0",
          "state": {
            "_dom_classes": [],
            "_model_module": "@jupyter-widgets/controls",
            "_model_module_version": "1.5.0",
            "_model_name": "HTMLModel",
            "_view_count": null,
            "_view_module": "@jupyter-widgets/controls",
            "_view_module_version": "1.5.0",
            "_view_name": "HTMLView",
            "description": "",
            "description_tooltip": null,
            "layout": "IPY_MODEL_1be01262d0274557904be476aa28ab81",
            "placeholder": "​",
            "style": "IPY_MODEL_7577d37f52a140e1bc0392300a69535f",
            "value": " 2/2 [00:01&lt;00:00,  1.55it/s]"
          }
        },
        "0336f3efda714b918ec60746de2c2e2e": {
          "model_module": "@jupyter-widgets/base",
          "model_name": "LayoutModel",
          "model_module_version": "1.2.0",
          "state": {
            "_model_module": "@jupyter-widgets/base",
            "_model_module_version": "1.2.0",
            "_model_name": "LayoutModel",
            "_view_count": null,
            "_view_module": "@jupyter-widgets/base",
            "_view_module_version": "1.2.0",
            "_view_name": "LayoutView",
            "align_content": null,
            "align_items": null,
            "align_self": null,
            "border": null,
            "bottom": null,
            "display": "inline-flex",
            "flex": null,
            "flex_flow": "row wrap",
            "grid_area": null,
            "grid_auto_columns": null,
            "grid_auto_flow": null,
            "grid_auto_rows": null,
            "grid_column": null,
            "grid_gap": null,
            "grid_row": null,
            "grid_template_areas": null,
            "grid_template_columns": null,
            "grid_template_rows": null,
            "height": null,
            "justify_content": null,
            "justify_items": null,
            "left": null,
            "margin": null,
            "max_height": null,
            "max_width": null,
            "min_height": null,
            "min_width": null,
            "object_fit": null,
            "object_position": null,
            "order": null,
            "overflow": null,
            "overflow_x": null,
            "overflow_y": null,
            "padding": null,
            "right": null,
            "top": null,
            "visibility": null,
            "width": "100%"
          }
        },
        "f5fe668bcf75435b87d1e2c128fac7ef": {
          "model_module": "@jupyter-widgets/base",
          "model_name": "LayoutModel",
          "model_module_version": "1.2.0",
          "state": {
            "_model_module": "@jupyter-widgets/base",
            "_model_module_version": "1.2.0",
            "_model_name": "LayoutModel",
            "_view_count": null,
            "_view_module": "@jupyter-widgets/base",
            "_view_module_version": "1.2.0",
            "_view_name": "LayoutView",
            "align_content": null,
            "align_items": null,
            "align_self": null,
            "border": null,
            "bottom": null,
            "display": null,
            "flex": null,
            "flex_flow": null,
            "grid_area": null,
            "grid_auto_columns": null,
            "grid_auto_flow": null,
            "grid_auto_rows": null,
            "grid_column": null,
            "grid_gap": null,
            "grid_row": null,
            "grid_template_areas": null,
            "grid_template_columns": null,
            "grid_template_rows": null,
            "height": null,
            "justify_content": null,
            "justify_items": null,
            "left": null,
            "margin": null,
            "max_height": null,
            "max_width": null,
            "min_height": null,
            "min_width": null,
            "object_fit": null,
            "object_position": null,
            "order": null,
            "overflow": null,
            "overflow_x": null,
            "overflow_y": null,
            "padding": null,
            "right": null,
            "top": null,
            "visibility": null,
            "width": null
          }
        },
        "750c240c3a5b4cc5bb6fcc8e6bf3820f": {
          "model_module": "@jupyter-widgets/controls",
          "model_name": "DescriptionStyleModel",
          "model_module_version": "1.5.0",
          "state": {
            "_model_module": "@jupyter-widgets/controls",
            "_model_module_version": "1.5.0",
            "_model_name": "DescriptionStyleModel",
            "_view_count": null,
            "_view_module": "@jupyter-widgets/base",
            "_view_module_version": "1.2.0",
            "_view_name": "StyleView",
            "description_width": ""
          }
        },
        "0ad44a0df130473a91e799c5d3ecd5c4": {
          "model_module": "@jupyter-widgets/base",
          "model_name": "LayoutModel",
          "model_module_version": "1.2.0",
          "state": {
            "_model_module": "@jupyter-widgets/base",
            "_model_module_version": "1.2.0",
            "_model_name": "LayoutModel",
            "_view_count": null,
            "_view_module": "@jupyter-widgets/base",
            "_view_module_version": "1.2.0",
            "_view_name": "LayoutView",
            "align_content": null,
            "align_items": null,
            "align_self": null,
            "border": null,
            "bottom": null,
            "display": null,
            "flex": "2",
            "flex_flow": null,
            "grid_area": null,
            "grid_auto_columns": null,
            "grid_auto_flow": null,
            "grid_auto_rows": null,
            "grid_column": null,
            "grid_gap": null,
            "grid_row": null,
            "grid_template_areas": null,
            "grid_template_columns": null,
            "grid_template_rows": null,
            "height": null,
            "justify_content": null,
            "justify_items": null,
            "left": null,
            "margin": null,
            "max_height": null,
            "max_width": null,
            "min_height": null,
            "min_width": null,
            "object_fit": null,
            "object_position": null,
            "order": null,
            "overflow": null,
            "overflow_x": null,
            "overflow_y": null,
            "padding": null,
            "right": null,
            "top": null,
            "visibility": null,
            "width": null
          }
        },
        "f36dddd09b75477cb6ca2270761fadbe": {
          "model_module": "@jupyter-widgets/controls",
          "model_name": "ProgressStyleModel",
          "model_module_version": "1.5.0",
          "state": {
            "_model_module": "@jupyter-widgets/controls",
            "_model_module_version": "1.5.0",
            "_model_name": "ProgressStyleModel",
            "_view_count": null,
            "_view_module": "@jupyter-widgets/base",
            "_view_module_version": "1.2.0",
            "_view_name": "StyleView",
            "bar_color": null,
            "description_width": ""
          }
        },
        "1be01262d0274557904be476aa28ab81": {
          "model_module": "@jupyter-widgets/base",
          "model_name": "LayoutModel",
          "model_module_version": "1.2.0",
          "state": {
            "_model_module": "@jupyter-widgets/base",
            "_model_module_version": "1.2.0",
            "_model_name": "LayoutModel",
            "_view_count": null,
            "_view_module": "@jupyter-widgets/base",
            "_view_module_version": "1.2.0",
            "_view_name": "LayoutView",
            "align_content": null,
            "align_items": null,
            "align_self": null,
            "border": null,
            "bottom": null,
            "display": null,
            "flex": null,
            "flex_flow": null,
            "grid_area": null,
            "grid_auto_columns": null,
            "grid_auto_flow": null,
            "grid_auto_rows": null,
            "grid_column": null,
            "grid_gap": null,
            "grid_row": null,
            "grid_template_areas": null,
            "grid_template_columns": null,
            "grid_template_rows": null,
            "height": null,
            "justify_content": null,
            "justify_items": null,
            "left": null,
            "margin": null,
            "max_height": null,
            "max_width": null,
            "min_height": null,
            "min_width": null,
            "object_fit": null,
            "object_position": null,
            "order": null,
            "overflow": null,
            "overflow_x": null,
            "overflow_y": null,
            "padding": null,
            "right": null,
            "top": null,
            "visibility": null,
            "width": null
          }
        },
        "7577d37f52a140e1bc0392300a69535f": {
          "model_module": "@jupyter-widgets/controls",
          "model_name": "DescriptionStyleModel",
          "model_module_version": "1.5.0",
          "state": {
            "_model_module": "@jupyter-widgets/controls",
            "_model_module_version": "1.5.0",
            "_model_name": "DescriptionStyleModel",
            "_view_count": null,
            "_view_module": "@jupyter-widgets/base",
            "_view_module_version": "1.2.0",
            "_view_name": "StyleView",
            "description_width": ""
          }
        },
        "161f71be03e2480c95ca7431668f307e": {
          "model_module": "@jupyter-widgets/controls",
          "model_name": "HBoxModel",
          "model_module_version": "1.5.0",
          "state": {
            "_dom_classes": [],
            "_model_module": "@jupyter-widgets/controls",
            "_model_module_version": "1.5.0",
            "_model_name": "HBoxModel",
            "_view_count": null,
            "_view_module": "@jupyter-widgets/controls",
            "_view_module_version": "1.5.0",
            "_view_name": "HBoxView",
            "box_style": "",
            "children": [
              "IPY_MODEL_2114afadbf9a430f821302e6352e8390",
              "IPY_MODEL_ba48a759d0384f3e87bac5b44925e86a",
              "IPY_MODEL_7af534c484224e608f5f2e45b636d433"
            ],
            "layout": "IPY_MODEL_8b8ea31a0dfc4dda9b89930b4638bc44"
          }
        },
        "2114afadbf9a430f821302e6352e8390": {
          "model_module": "@jupyter-widgets/controls",
          "model_name": "HTMLModel",
          "model_module_version": "1.5.0",
          "state": {
            "_dom_classes": [],
            "_model_module": "@jupyter-widgets/controls",
            "_model_module_version": "1.5.0",
            "_model_name": "HTMLModel",
            "_view_count": null,
            "_view_module": "@jupyter-widgets/controls",
            "_view_module_version": "1.5.0",
            "_view_name": "HTMLView",
            "description": "",
            "description_tooltip": null,
            "layout": "IPY_MODEL_f7702daf1f2646578be60f7d978a98d0",
            "placeholder": "​",
            "style": "IPY_MODEL_57a4ffbf0de840c4aa743847e1bdb0b7",
            "value": "Epoch 0:   1%"
          }
        },
        "ba48a759d0384f3e87bac5b44925e86a": {
          "model_module": "@jupyter-widgets/controls",
          "model_name": "FloatProgressModel",
          "model_module_version": "1.5.0",
          "state": {
            "_dom_classes": [],
            "_model_module": "@jupyter-widgets/controls",
            "_model_module_version": "1.5.0",
            "_model_name": "FloatProgressModel",
            "_view_count": null,
            "_view_module": "@jupyter-widgets/controls",
            "_view_module_version": "1.5.0",
            "_view_name": "ProgressView",
            "bar_style": "",
            "description": "",
            "description_tooltip": null,
            "layout": "IPY_MODEL_dfdc0f194d104e7bbd1acdc83c068cab",
            "max": 11516,
            "min": 0,
            "orientation": "horizontal",
            "style": "IPY_MODEL_9a7b963d2a174e8b9576280ed21f07a3",
            "value": 60
          }
        },
        "7af534c484224e608f5f2e45b636d433": {
          "model_module": "@jupyter-widgets/controls",
          "model_name": "HTMLModel",
          "model_module_version": "1.5.0",
          "state": {
            "_dom_classes": [],
            "_model_module": "@jupyter-widgets/controls",
            "_model_module_version": "1.5.0",
            "_model_name": "HTMLModel",
            "_view_count": null,
            "_view_module": "@jupyter-widgets/controls",
            "_view_module_version": "1.5.0",
            "_view_name": "HTMLView",
            "description": "",
            "description_tooltip": null,
            "layout": "IPY_MODEL_2e558fa8e1ef40f185a15d82444379a5",
            "placeholder": "​",
            "style": "IPY_MODEL_9e92b71da0bc405592cb6ffeb2f87f7a",
            "value": " 60/11516 [23:21&lt;74:19:07, 23.35s/it, loss=4.52, v_num=0, train_loss=4.480, train_acc=0.188]"
          }
        },
        "8b8ea31a0dfc4dda9b89930b4638bc44": {
          "model_module": "@jupyter-widgets/base",
          "model_name": "LayoutModel",
          "model_module_version": "1.2.0",
          "state": {
            "_model_module": "@jupyter-widgets/base",
            "_model_module_version": "1.2.0",
            "_model_name": "LayoutModel",
            "_view_count": null,
            "_view_module": "@jupyter-widgets/base",
            "_view_module_version": "1.2.0",
            "_view_name": "LayoutView",
            "align_content": null,
            "align_items": null,
            "align_self": null,
            "border": null,
            "bottom": null,
            "display": "inline-flex",
            "flex": null,
            "flex_flow": "row wrap",
            "grid_area": null,
            "grid_auto_columns": null,
            "grid_auto_flow": null,
            "grid_auto_rows": null,
            "grid_column": null,
            "grid_gap": null,
            "grid_row": null,
            "grid_template_areas": null,
            "grid_template_columns": null,
            "grid_template_rows": null,
            "height": null,
            "justify_content": null,
            "justify_items": null,
            "left": null,
            "margin": null,
            "max_height": null,
            "max_width": null,
            "min_height": null,
            "min_width": null,
            "object_fit": null,
            "object_position": null,
            "order": null,
            "overflow": null,
            "overflow_x": null,
            "overflow_y": null,
            "padding": null,
            "right": null,
            "top": null,
            "visibility": null,
            "width": "100%"
          }
        },
        "f7702daf1f2646578be60f7d978a98d0": {
          "model_module": "@jupyter-widgets/base",
          "model_name": "LayoutModel",
          "model_module_version": "1.2.0",
          "state": {
            "_model_module": "@jupyter-widgets/base",
            "_model_module_version": "1.2.0",
            "_model_name": "LayoutModel",
            "_view_count": null,
            "_view_module": "@jupyter-widgets/base",
            "_view_module_version": "1.2.0",
            "_view_name": "LayoutView",
            "align_content": null,
            "align_items": null,
            "align_self": null,
            "border": null,
            "bottom": null,
            "display": null,
            "flex": null,
            "flex_flow": null,
            "grid_area": null,
            "grid_auto_columns": null,
            "grid_auto_flow": null,
            "grid_auto_rows": null,
            "grid_column": null,
            "grid_gap": null,
            "grid_row": null,
            "grid_template_areas": null,
            "grid_template_columns": null,
            "grid_template_rows": null,
            "height": null,
            "justify_content": null,
            "justify_items": null,
            "left": null,
            "margin": null,
            "max_height": null,
            "max_width": null,
            "min_height": null,
            "min_width": null,
            "object_fit": null,
            "object_position": null,
            "order": null,
            "overflow": null,
            "overflow_x": null,
            "overflow_y": null,
            "padding": null,
            "right": null,
            "top": null,
            "visibility": null,
            "width": null
          }
        },
        "57a4ffbf0de840c4aa743847e1bdb0b7": {
          "model_module": "@jupyter-widgets/controls",
          "model_name": "DescriptionStyleModel",
          "model_module_version": "1.5.0",
          "state": {
            "_model_module": "@jupyter-widgets/controls",
            "_model_module_version": "1.5.0",
            "_model_name": "DescriptionStyleModel",
            "_view_count": null,
            "_view_module": "@jupyter-widgets/base",
            "_view_module_version": "1.2.0",
            "_view_name": "StyleView",
            "description_width": ""
          }
        },
        "dfdc0f194d104e7bbd1acdc83c068cab": {
          "model_module": "@jupyter-widgets/base",
          "model_name": "LayoutModel",
          "model_module_version": "1.2.0",
          "state": {
            "_model_module": "@jupyter-widgets/base",
            "_model_module_version": "1.2.0",
            "_model_name": "LayoutModel",
            "_view_count": null,
            "_view_module": "@jupyter-widgets/base",
            "_view_module_version": "1.2.0",
            "_view_name": "LayoutView",
            "align_content": null,
            "align_items": null,
            "align_self": null,
            "border": null,
            "bottom": null,
            "display": null,
            "flex": "2",
            "flex_flow": null,
            "grid_area": null,
            "grid_auto_columns": null,
            "grid_auto_flow": null,
            "grid_auto_rows": null,
            "grid_column": null,
            "grid_gap": null,
            "grid_row": null,
            "grid_template_areas": null,
            "grid_template_columns": null,
            "grid_template_rows": null,
            "height": null,
            "justify_content": null,
            "justify_items": null,
            "left": null,
            "margin": null,
            "max_height": null,
            "max_width": null,
            "min_height": null,
            "min_width": null,
            "object_fit": null,
            "object_position": null,
            "order": null,
            "overflow": null,
            "overflow_x": null,
            "overflow_y": null,
            "padding": null,
            "right": null,
            "top": null,
            "visibility": null,
            "width": null
          }
        },
        "9a7b963d2a174e8b9576280ed21f07a3": {
          "model_module": "@jupyter-widgets/controls",
          "model_name": "ProgressStyleModel",
          "model_module_version": "1.5.0",
          "state": {
            "_model_module": "@jupyter-widgets/controls",
            "_model_module_version": "1.5.0",
            "_model_name": "ProgressStyleModel",
            "_view_count": null,
            "_view_module": "@jupyter-widgets/base",
            "_view_module_version": "1.2.0",
            "_view_name": "StyleView",
            "bar_color": null,
            "description_width": ""
          }
        },
        "2e558fa8e1ef40f185a15d82444379a5": {
          "model_module": "@jupyter-widgets/base",
          "model_name": "LayoutModel",
          "model_module_version": "1.2.0",
          "state": {
            "_model_module": "@jupyter-widgets/base",
            "_model_module_version": "1.2.0",
            "_model_name": "LayoutModel",
            "_view_count": null,
            "_view_module": "@jupyter-widgets/base",
            "_view_module_version": "1.2.0",
            "_view_name": "LayoutView",
            "align_content": null,
            "align_items": null,
            "align_self": null,
            "border": null,
            "bottom": null,
            "display": null,
            "flex": null,
            "flex_flow": null,
            "grid_area": null,
            "grid_auto_columns": null,
            "grid_auto_flow": null,
            "grid_auto_rows": null,
            "grid_column": null,
            "grid_gap": null,
            "grid_row": null,
            "grid_template_areas": null,
            "grid_template_columns": null,
            "grid_template_rows": null,
            "height": null,
            "justify_content": null,
            "justify_items": null,
            "left": null,
            "margin": null,
            "max_height": null,
            "max_width": null,
            "min_height": null,
            "min_width": null,
            "object_fit": null,
            "object_position": null,
            "order": null,
            "overflow": null,
            "overflow_x": null,
            "overflow_y": null,
            "padding": null,
            "right": null,
            "top": null,
            "visibility": null,
            "width": null
          }
        },
        "9e92b71da0bc405592cb6ffeb2f87f7a": {
          "model_module": "@jupyter-widgets/controls",
          "model_name": "DescriptionStyleModel",
          "model_module_version": "1.5.0",
          "state": {
            "_model_module": "@jupyter-widgets/controls",
            "_model_module_version": "1.5.0",
            "_model_name": "DescriptionStyleModel",
            "_view_count": null,
            "_view_module": "@jupyter-widgets/base",
            "_view_module_version": "1.2.0",
            "_view_name": "StyleView",
            "description_width": ""
          }
        }
      }
    }
  },
  "nbformat": 4,
  "nbformat_minor": 0
}