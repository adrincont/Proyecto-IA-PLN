{
  "cells": [
    {
      "cell_type": "markdown",
      "metadata": {
        "id": "iHkYFOFNvqi-"
      },
      "source": [
        "# **Construcción automática de texto (Pytorch-Ligthning)**\n",
        "Andrey Duvan Rincon Torres\n",
        "\n",
        "---"
      ]
    },
    {
      "cell_type": "code",
      "source": [
        "pip install pytorch-lightning"
      ],
      "metadata": {
        "id": "bfIgLe48v3xw"
      },
      "execution_count": null,
      "outputs": []
    },
    {
      "cell_type": "code",
      "source": [
        "pip install pyyaml==5.4.1"
      ],
      "metadata": {
        "id": "4_fmt58fOP7g"
      },
      "execution_count": null,
      "outputs": []
    },
    {
      "cell_type": "code",
      "source": [
        "pip install plotly_express"
      ],
      "metadata": {
        "id": "hCyy-hRuOUBx"
      },
      "execution_count": null,
      "outputs": []
    },
    {
      "cell_type": "code",
      "source": [
        "pip install torchmetrics"
      ],
      "metadata": {
        "id": "8uF3ELUi5Ag1"
      },
      "execution_count": null,
      "outputs": []
    },
    {
      "cell_type": "code",
      "execution_count": 5,
      "metadata": {
        "id": "2SAgacGzvqjB",
        "outputId": "cb52fcd7-89c0-4896-8863-6841a8a32b02",
        "colab": {
          "base_uri": "https://localhost:8080/"
        }
      },
      "outputs": [
        {
          "output_type": "stream",
          "name": "stderr",
          "text": [
            "/usr/local/lib/python3.7/dist-packages/distributed/config.py:20: YAMLLoadWarning: calling yaml.load() without Loader=... is deprecated, as the default Loader is unsafe. Please read https://msg.pyyaml.org/load for full details.\n",
            "  defaults = yaml.load(f)\n"
          ]
        }
      ],
      "source": [
        "# Basicas\n",
        "import pandas as pd\n",
        "import numpy as np\n",
        "# Graficas\n",
        "import plotly.express as plx\n",
        "import plotly.graph_objects as go\n",
        "# Pytorch\n",
        "import torch\n",
        "from torch import nn\n",
        "import pytorch_lightning as pl\n",
        "from torch.utils.data import Dataset, TensorDataset, DataLoader\n",
        "from torchmetrics.functional import accuracy\n",
        "# Sklearn\n",
        "from sklearn.model_selection import train_test_split\n",
        "from sklearn.preprocessing import OneHotEncoder\n",
        "# Texto\n",
        "from tensorflow.keras.preprocessing.text import Tokenizer\n",
        "from tensorflow.keras.preprocessing.sequence import pad_sequences\n",
        "def poem_to_string(poem):\n",
        "  return f'\\n{poem[\"title\"]}\\n{poem[\"author\"]}\\n{poem[\"content\"]}'\n",
        "def poem_sequence_to_string(poem_sequence):\n",
        "    poem_stringified = tokenizer.sequences_to_texts([poem_sequence])[0]\n",
        "    print(poem_stringified)\n",
        "CELoss = nn.CrossEntropyLoss()"
      ]
    },
    {
      "cell_type": "markdown",
      "source": [
        "# **Datos**"
      ],
      "metadata": {
        "id": "J1yX23FRe0yd"
      }
    },
    {
      "cell_type": "code",
      "source": [
        "url = 'https://raw.githubusercontent.com/andreamorgar/poesIA/master/data/poems.csv'\n",
        "poems_df = pd.read_csv(url)\n",
        "poems_df = poems_df.dropna()"
      ],
      "metadata": {
        "id": "1YLm8TDBezt-"
      },
      "execution_count": 6,
      "outputs": []
    },
    {
      "cell_type": "code",
      "source": [
        "# Filtrar poemas grandes\n",
        "poems_df['string'] = poems_df.apply(lambda row: f'\\n{row[\"title\"]}\\n\\n{row[\"author\"]}\\n\\n{row[\"content\"]}', axis=1)\n",
        "poems_df['length'] = poems_df.string.map(len)\n",
        "MAX_POEM_LENGTH=1000\n",
        "poems_filtered = poems_df[poems_df.length<MAX_POEM_LENGTH]\n",
        "poems_df"
      ],
      "metadata": {
        "id": "1g4lr7TxghDE",
        "outputId": "d1d8ed35-36b5-47fc-d412-9e3ab5211d0c",
        "colab": {
          "base_uri": "https://localhost:8080/",
          "height": 424
        }
      },
      "execution_count": 7,
      "outputs": [
        {
          "output_type": "execute_result",
          "data": {
            "text/plain": [
              "                       author  \\\n",
              "0            Leopoldo Lugones   \n",
              "1             Marilina Rébora   \n",
              "2             Antonio Colinas   \n",
              "3         José María Hinojosa   \n",
              "4     Rubén Izaguirre Fiallos   \n",
              "...                       ...   \n",
              "5128              Rubén Darío   \n",
              "5129    David Escobar Galindo   \n",
              "5130                  amistad   \n",
              "5131              Octavio Paz   \n",
              "5132       José Ángel Valente   \n",
              "\n",
              "                                                content  \\\n",
              "0     \\n\\nEn el parque confuso\\nQue con lánguidas br...   \n",
              "1     \\n\\nPorque si tú no velas, vendré como ladrón;...   \n",
              "2     \\n\\nPequeña de mis sueños, por tu piel las pal...   \n",
              "3     \\n\\nLos dedos de la nieve\\nrepiquetearon\\nen e...   \n",
              "4     Naciste en Armenia,\\npero te fuiste a vivir al...   \n",
              "...                                                 ...   \n",
              "5128  \\n¿Vienes? Me llega aquí, pues que suspiras, \\...   \n",
              "5129  \\n\\nNada es memoria: todo es invención.\\nLo qu...   \n",
              "5130  \\nFelicidad: Muy dentro de tí.\\nSerenidad: En ...   \n",
              "5131  \\nMis manos \\nabren las cortinas de tu ser \\nt...   \n",
              "5132  \\n\\nY ahora danos\\nuna muerte honorable,\\nviej...   \n",
              "\n",
              "                                      title  \\\n",
              "0                      LA MUERTE DE LA LUNA   \n",
              "1                     PORQUE SI TÚ NO VELAS   \n",
              "2     POEMA DE LA BELLEZA CAUTIVA QUE PERDÍ   \n",
              "3                                 SENCILLEZ   \n",
              "4             Breve Carta a Consuelo Suncín   \n",
              "...                                     ...   \n",
              "5128                             Divagación   \n",
              "5129                        Nada es memoria   \n",
              "5130      Esto es todo lo que deseo para tí   \n",
              "5131                                 Palpar   \n",
              "5132                                EXORDIO   \n",
              "\n",
              "                                                 string  length  \n",
              "0     \\nLA MUERTE DE LA LUNA\\n\\nLeopoldo Lugones\\n\\n...    1850  \n",
              "1     \\nPORQUE SI TÚ NO VELAS\\n\\nMarilina Rébora\\n\\n...     732  \n",
              "2     \\nPOEMA DE LA BELLEZA CAUTIVA QUE PERDÍ\\n\\nAnt...     662  \n",
              "3     \\nSENCILLEZ\\n\\nJosé María Hinojosa\\n\\n\\n\\nLos ...     273  \n",
              "4     \\nBreve Carta a Consuelo Suncín\\n\\nRubén Izagu...     416  \n",
              "...                                                 ...     ...  \n",
              "5128  \\nDivagación\\n\\nRubén Darío\\n\\n\\n¿Vienes? Me l...    5157  \n",
              "5129  \\nNada es memoria\\n\\nDavid Escobar Galindo\\n\\n...     258  \n",
              "5130  \\nEsto es todo lo que deseo para tí\\n\\namistad...     504  \n",
              "5131  \\nPalpar\\n\\nOctavio Paz\\n\\n\\nMis manos \\nabren...     173  \n",
              "5132  \\nEXORDIO\\n\\nJosé Ángel Valente\\n\\n\\n\\nY ahora...      98  \n",
              "\n",
              "[5131 rows x 5 columns]"
            ],
            "text/html": [
              "\n",
              "  <div id=\"df-8f7c6977-33ca-4a10-9e70-6ff0428f9c52\">\n",
              "    <div class=\"colab-df-container\">\n",
              "      <div>\n",
              "<style scoped>\n",
              "    .dataframe tbody tr th:only-of-type {\n",
              "        vertical-align: middle;\n",
              "    }\n",
              "\n",
              "    .dataframe tbody tr th {\n",
              "        vertical-align: top;\n",
              "    }\n",
              "\n",
              "    .dataframe thead th {\n",
              "        text-align: right;\n",
              "    }\n",
              "</style>\n",
              "<table border=\"1\" class=\"dataframe\">\n",
              "  <thead>\n",
              "    <tr style=\"text-align: right;\">\n",
              "      <th></th>\n",
              "      <th>author</th>\n",
              "      <th>content</th>\n",
              "      <th>title</th>\n",
              "      <th>string</th>\n",
              "      <th>length</th>\n",
              "    </tr>\n",
              "  </thead>\n",
              "  <tbody>\n",
              "    <tr>\n",
              "      <th>0</th>\n",
              "      <td>Leopoldo Lugones</td>\n",
              "      <td>\\n\\nEn el parque confuso\\nQue con lánguidas br...</td>\n",
              "      <td>LA MUERTE DE LA LUNA</td>\n",
              "      <td>\\nLA MUERTE DE LA LUNA\\n\\nLeopoldo Lugones\\n\\n...</td>\n",
              "      <td>1850</td>\n",
              "    </tr>\n",
              "    <tr>\n",
              "      <th>1</th>\n",
              "      <td>Marilina Rébora</td>\n",
              "      <td>\\n\\nPorque si tú no velas, vendré como ladrón;...</td>\n",
              "      <td>PORQUE SI TÚ NO VELAS</td>\n",
              "      <td>\\nPORQUE SI TÚ NO VELAS\\n\\nMarilina Rébora\\n\\n...</td>\n",
              "      <td>732</td>\n",
              "    </tr>\n",
              "    <tr>\n",
              "      <th>2</th>\n",
              "      <td>Antonio Colinas</td>\n",
              "      <td>\\n\\nPequeña de mis sueños, por tu piel las pal...</td>\n",
              "      <td>POEMA DE LA BELLEZA CAUTIVA QUE PERDÍ</td>\n",
              "      <td>\\nPOEMA DE LA BELLEZA CAUTIVA QUE PERDÍ\\n\\nAnt...</td>\n",
              "      <td>662</td>\n",
              "    </tr>\n",
              "    <tr>\n",
              "      <th>3</th>\n",
              "      <td>José María Hinojosa</td>\n",
              "      <td>\\n\\nLos dedos de la nieve\\nrepiquetearon\\nen e...</td>\n",
              "      <td>SENCILLEZ</td>\n",
              "      <td>\\nSENCILLEZ\\n\\nJosé María Hinojosa\\n\\n\\n\\nLos ...</td>\n",
              "      <td>273</td>\n",
              "    </tr>\n",
              "    <tr>\n",
              "      <th>4</th>\n",
              "      <td>Rubén Izaguirre Fiallos</td>\n",
              "      <td>Naciste en Armenia,\\npero te fuiste a vivir al...</td>\n",
              "      <td>Breve Carta a Consuelo Suncín</td>\n",
              "      <td>\\nBreve Carta a Consuelo Suncín\\n\\nRubén Izagu...</td>\n",
              "      <td>416</td>\n",
              "    </tr>\n",
              "    <tr>\n",
              "      <th>...</th>\n",
              "      <td>...</td>\n",
              "      <td>...</td>\n",
              "      <td>...</td>\n",
              "      <td>...</td>\n",
              "      <td>...</td>\n",
              "    </tr>\n",
              "    <tr>\n",
              "      <th>5128</th>\n",
              "      <td>Rubén Darío</td>\n",
              "      <td>\\n¿Vienes? Me llega aquí, pues que suspiras, \\...</td>\n",
              "      <td>Divagación</td>\n",
              "      <td>\\nDivagación\\n\\nRubén Darío\\n\\n\\n¿Vienes? Me l...</td>\n",
              "      <td>5157</td>\n",
              "    </tr>\n",
              "    <tr>\n",
              "      <th>5129</th>\n",
              "      <td>David Escobar Galindo</td>\n",
              "      <td>\\n\\nNada es memoria: todo es invención.\\nLo qu...</td>\n",
              "      <td>Nada es memoria</td>\n",
              "      <td>\\nNada es memoria\\n\\nDavid Escobar Galindo\\n\\n...</td>\n",
              "      <td>258</td>\n",
              "    </tr>\n",
              "    <tr>\n",
              "      <th>5130</th>\n",
              "      <td>amistad</td>\n",
              "      <td>\\nFelicidad: Muy dentro de tí.\\nSerenidad: En ...</td>\n",
              "      <td>Esto es todo lo que deseo para tí</td>\n",
              "      <td>\\nEsto es todo lo que deseo para tí\\n\\namistad...</td>\n",
              "      <td>504</td>\n",
              "    </tr>\n",
              "    <tr>\n",
              "      <th>5131</th>\n",
              "      <td>Octavio Paz</td>\n",
              "      <td>\\nMis manos \\nabren las cortinas de tu ser \\nt...</td>\n",
              "      <td>Palpar</td>\n",
              "      <td>\\nPalpar\\n\\nOctavio Paz\\n\\n\\nMis manos \\nabren...</td>\n",
              "      <td>173</td>\n",
              "    </tr>\n",
              "    <tr>\n",
              "      <th>5132</th>\n",
              "      <td>José Ángel Valente</td>\n",
              "      <td>\\n\\nY ahora danos\\nuna muerte honorable,\\nviej...</td>\n",
              "      <td>EXORDIO</td>\n",
              "      <td>\\nEXORDIO\\n\\nJosé Ángel Valente\\n\\n\\n\\nY ahora...</td>\n",
              "      <td>98</td>\n",
              "    </tr>\n",
              "  </tbody>\n",
              "</table>\n",
              "<p>5131 rows × 5 columns</p>\n",
              "</div>\n",
              "      <button class=\"colab-df-convert\" onclick=\"convertToInteractive('df-8f7c6977-33ca-4a10-9e70-6ff0428f9c52')\"\n",
              "              title=\"Convert this dataframe to an interactive table.\"\n",
              "              style=\"display:none;\">\n",
              "        \n",
              "  <svg xmlns=\"http://www.w3.org/2000/svg\" height=\"24px\"viewBox=\"0 0 24 24\"\n",
              "       width=\"24px\">\n",
              "    <path d=\"M0 0h24v24H0V0z\" fill=\"none\"/>\n",
              "    <path d=\"M18.56 5.44l.94 2.06.94-2.06 2.06-.94-2.06-.94-.94-2.06-.94 2.06-2.06.94zm-11 1L8.5 8.5l.94-2.06 2.06-.94-2.06-.94L8.5 2.5l-.94 2.06-2.06.94zm10 10l.94 2.06.94-2.06 2.06-.94-2.06-.94-.94-2.06-.94 2.06-2.06.94z\"/><path d=\"M17.41 7.96l-1.37-1.37c-.4-.4-.92-.59-1.43-.59-.52 0-1.04.2-1.43.59L10.3 9.45l-7.72 7.72c-.78.78-.78 2.05 0 2.83L4 21.41c.39.39.9.59 1.41.59.51 0 1.02-.2 1.41-.59l7.78-7.78 2.81-2.81c.8-.78.8-2.07 0-2.86zM5.41 20L4 18.59l7.72-7.72 1.47 1.35L5.41 20z\"/>\n",
              "  </svg>\n",
              "      </button>\n",
              "      \n",
              "  <style>\n",
              "    .colab-df-container {\n",
              "      display:flex;\n",
              "      flex-wrap:wrap;\n",
              "      gap: 12px;\n",
              "    }\n",
              "\n",
              "    .colab-df-convert {\n",
              "      background-color: #E8F0FE;\n",
              "      border: none;\n",
              "      border-radius: 50%;\n",
              "      cursor: pointer;\n",
              "      display: none;\n",
              "      fill: #1967D2;\n",
              "      height: 32px;\n",
              "      padding: 0 0 0 0;\n",
              "      width: 32px;\n",
              "    }\n",
              "\n",
              "    .colab-df-convert:hover {\n",
              "      background-color: #E2EBFA;\n",
              "      box-shadow: 0px 1px 2px rgba(60, 64, 67, 0.3), 0px 1px 3px 1px rgba(60, 64, 67, 0.15);\n",
              "      fill: #174EA6;\n",
              "    }\n",
              "\n",
              "    [theme=dark] .colab-df-convert {\n",
              "      background-color: #3B4455;\n",
              "      fill: #D2E3FC;\n",
              "    }\n",
              "\n",
              "    [theme=dark] .colab-df-convert:hover {\n",
              "      background-color: #434B5C;\n",
              "      box-shadow: 0px 1px 3px 1px rgba(0, 0, 0, 0.15);\n",
              "      filter: drop-shadow(0px 1px 2px rgba(0, 0, 0, 0.3));\n",
              "      fill: #FFFFFF;\n",
              "    }\n",
              "  </style>\n",
              "\n",
              "      <script>\n",
              "        const buttonEl =\n",
              "          document.querySelector('#df-8f7c6977-33ca-4a10-9e70-6ff0428f9c52 button.colab-df-convert');\n",
              "        buttonEl.style.display =\n",
              "          google.colab.kernel.accessAllowed ? 'block' : 'none';\n",
              "\n",
              "        async function convertToInteractive(key) {\n",
              "          const element = document.querySelector('#df-8f7c6977-33ca-4a10-9e70-6ff0428f9c52');\n",
              "          const dataTable =\n",
              "            await google.colab.kernel.invokeFunction('convertToInteractive',\n",
              "                                                     [key], {});\n",
              "          if (!dataTable) return;\n",
              "\n",
              "          const docLinkHtml = 'Like what you see? Visit the ' +\n",
              "            '<a target=\"_blank\" href=https://colab.research.google.com/notebooks/data_table.ipynb>data table notebook</a>'\n",
              "            + ' to learn more about interactive tables.';\n",
              "          element.innerHTML = '';\n",
              "          dataTable['output_type'] = 'display_data';\n",
              "          await google.colab.output.renderOutput(dataTable, element);\n",
              "          const docLink = document.createElement('div');\n",
              "          docLink.innerHTML = docLinkHtml;\n",
              "          element.appendChild(docLink);\n",
              "        }\n",
              "      </script>\n",
              "    </div>\n",
              "  </div>\n",
              "  "
            ]
          },
          "metadata": {},
          "execution_count": 7
        }
      ]
    },
    {
      "cell_type": "code",
      "source": [
        "print(poems_df['string'][0])"
      ],
      "metadata": {
        "id": "QRpHDSqjhS56",
        "outputId": "9607f767-b04b-4f6b-b880-dff55ed0ad67",
        "colab": {
          "base_uri": "https://localhost:8080/"
        }
      },
      "execution_count": 8,
      "outputs": [
        {
          "output_type": "stream",
          "name": "stdout",
          "text": [
            "\n",
            "LA MUERTE DE LA LUNA\n",
            "\n",
            "Leopoldo Lugones\n",
            "\n",
            "\n",
            "\n",
            "En el parque confuso\n",
            "Que con lánguidas brisas el cielo sahúma,\n",
            "El ciprés, como un huso,\n",
            "Devana un ovillo de de bruma.\n",
            "El telar de la luna tiende en plata su urdimbre;\n",
            "Abandona la rada un lúgubre corsario,\n",
            "Y después suena un timbre\n",
            "En el vecindario.\n",
            "\n",
            "Sobre el horizonte malva\n",
            "De una mar argentina,\n",
            "En curva de frente calva\n",
            "La luna se inclina,\n",
            "O bien un vago nácar disemina\n",
            "Como la valva\n",
            "De una madreperla a flor del agua marina.\n",
            "\n",
            "Un brillo de lóbrego frasco\n",
            "Adquiere cada ola,\n",
            "Y la noche cual enorme peñasco\n",
            "Va quedándose inmensamente sola.\n",
            "\n",
            "Forma el tic-tac de un reloj accesorio,\n",
            "La tela de la vida, cual siniestro pespunte.\n",
            "Flota en la noche de blancor mortuorio\n",
            "Una benzoica insispidez de sanatorio,\n",
            "Y cada transeúnte\n",
            "Parece una silueta del Purgatorio.\n",
            "\n",
            "Con emoción prosaica,\n",
            "Suena lejos, en canto de lúgubre alarde,\n",
            "Una voz de hombre desgraciado, en que arde\n",
            "El calor negro del rom de Jamaica.\n",
            "Y reina en el espíritu con subconsciencie arcaica,\n",
            "El miedo de lo demasiado tarde.\n",
            "\n",
            "Tras del horizonte abstracto,\n",
            "Húndese al fin la luna con lúgubre abandono,\n",
            "Y las tinieblas palpan como el tacto\n",
            "De un helado y sombrío mono.\n",
            "Sobre las lunares huellas,\n",
            "A un azar de eternidad y desdicha,\n",
            "Orión juega su ficha\n",
            "En problemático dominó de estrellas.\n",
            "\n",
            "El frescor nocturno\n",
            "Triunfa de tu amoroso empeño,\n",
            "Y domina tu frente con peso taciturno\n",
            "El negro racimo del sueño.\n",
            "En el fugaz desvarío\n",
            "Con que te embargan soñadas visiones,\n",
            "Vacilan las constelaciones;\n",
            "Y en tu sueño formado de aroma y de estío,\n",
            "Flota un antiguo cansancio\n",
            "De Bizancio...\n",
            "\n",
            "Languideciendo en la íntima baranda,\n",
            "Sin ilusión alguna\n",
            "Contestas a mi trémula demanda.\n",
            "Al mismo tiempo que la luna,\n",
            "Una gran perla se apaga en tu meñique;\n",
            "Disipa la brisa retardados sonrojos;\n",
            "Y el cielo como una barca que se va a pique,\n",
            "Definitivamente naufraga en tus ojos.\n"
          ]
        }
      ]
    },
    {
      "cell_type": "markdown",
      "source": [
        "# **Vocabulary**"
      ],
      "metadata": {
        "id": "J11x0q3Jh4rS"
      }
    },
    {
      "cell_type": "code",
      "source": [
        "poems_string=poems_filtered.string\n",
        "STOP_SIGN = '␣'\n",
        "tokenizer = Tokenizer(char_level=True, filters='', lower=False, split='')\n",
        "tokenizer.fit_on_texts([STOP_SIGN])\n",
        "tokenizer.fit_on_texts(poems_string)\n",
        "total_words = len(tokenizer.word_index) + 1\n",
        "dataset_vectorized = tokenizer.texts_to_sequences(poems_string)"
      ],
      "metadata": {
        "id": "XG4xJ6Efh3oX"
      },
      "execution_count": 9,
      "outputs": []
    },
    {
      "cell_type": "code",
      "source": [
        "input_sequences = []\n",
        "for line in dataset_vectorized:\n",
        "  token_list = line\n",
        "  for i in range(1, len(token_list)):\n",
        "    n_gram_sequence = token_list[:i+1]\n",
        "    input_sequences.append(n_gram_sequence)"
      ],
      "metadata": {
        "id": "kPzwy96yu6aY"
      },
      "execution_count": 18,
      "outputs": []
    },
    {
      "cell_type": "code",
      "source": [
        "max_sequence_len = max([len(x) for x in input_sequences])"
      ],
      "metadata": {
        "id": "3n6x2X2i8rhR"
      },
      "execution_count": 20,
      "outputs": []
    },
    {
      "cell_type": "code",
      "source": [
        "input_sequences = np.array(pad_sequences(input_sequences, maxlen=max_sequence_len, padding='pre'))\n",
        "# crea predictores y etiqueta\n",
        "predictors, label = input_sequences[:,:-1],input_sequences[:,-1]"
      ],
      "metadata": {
        "id": "buEXJP1bnzyk"
      },
      "execution_count": null,
      "outputs": []
    },
    {
      "cell_type": "markdown",
      "metadata": {
        "id": "LtPrf9w1vqjD"
      },
      "source": [
        "## **Modelo**"
      ]
    },
    {
      "cell_type": "code",
      "execution_count": null,
      "metadata": {
        "id": "zhGdzUbEvqjD"
      },
      "outputs": [],
      "source": [
        "class Model(nn.Module):\n",
        "  # creamos la estructura de la red\n",
        "  def __init__(self):\n",
        "      super(Model,self).__init__()\n",
        "      # Embeding de las palabras\n",
        "      self.embedding = nn.Embedding(total_words, 100)\n",
        "      # Red Bidireccional\n",
        "      self.lstm_1 = nn.LSTM(100, 150, 1, batch_first=True, dropout = 0.2 , bidirectional = True)\n",
        "      # red LSTM\n",
        "      self.lstm_2 = nn.LSTM(300*(max_sequence_len - 1),100,1, batch_first=True)\n",
        "      # red perceptron\n",
        "      self.linear_1 = nn.Linear(100,1605)\n",
        "      self.linear_2 = nn.Linear(1605,total_words)\n",
        "      self.relu = nn.ReLU()\n",
        "      self.sofmax = nn.Softmax()\n",
        "  # definimos el comportamiento de las capas\n",
        "  def forward(self, x):\n",
        "      batch_size, channelsn = x.size()\n",
        "      x = self.embedding(x)\n",
        "      # layer LSTM bidirectional\n",
        "      out, (h_n, c_n) = self.lstm_1(x)\n",
        "      # layer LSTM\n",
        "      out, (h_n, c_n) = self.lstm_2(out.reshape((batch_size,-1)))\n",
        "      # capa de salida\n",
        "      out = self.relu(self.linear_1(out))\n",
        "      out = self.sofmax(self.linear_2(out))\n",
        "      return out"
      ]
    },
    {
      "cell_type": "markdown",
      "metadata": {
        "id": "LjuZpFfIvqjE"
      },
      "source": [
        "## **Datos**"
      ]
    },
    {
      "cell_type": "code",
      "execution_count": null,
      "metadata": {
        "id": "P5ks3sNGvqjF"
      },
      "outputs": [],
      "source": [
        "# Clase de los datos\n",
        "class DataModule(pl.LightningDataModule):\n",
        "  # Definimos un tamaño de lote en la calse\n",
        "  def __init__(self, batch_size = 32):\n",
        "      super(DataModule,self).__init__()\n",
        "      self.batch_size = batch_size\n",
        "  # Definimos el tratamiento de los datos\n",
        "  def setup(self, stage=None):\n",
        "    x, y = predictors, label\n",
        "    # Conjunto de validacion\n",
        "    x_train, x_val, y_train, y_val = train_test_split(x, y, test_size = 0.1, random_state = 0,shuffle=True)\n",
        "    # Transformar en tensores\n",
        "    self.train_dataset = TensorDataset(torch.tensor(x_train.astype(np.int32)),torch.tensor(y_train.astype(np.int32)))\n",
        "    self.val_dataset = TensorDataset(torch.tensor(x_val.astype(np.int32)),torch.tensor(y_val.astype(np.int32)))\n",
        "  # Iterable de entrenamiento\n",
        "  def train_dataloader(self):\n",
        "      return DataLoader(self.train_dataset, batch_size=self.batch_size)\n",
        "  # Iterable de validacion\n",
        "  def val_dataloader(self):\n",
        "      return DataLoader(self.val_dataset, batch_size=self.batch_size)"
      ]
    },
    {
      "cell_type": "markdown",
      "metadata": {
        "id": "v4NBS67avqjG"
      },
      "source": [
        "## **Entrenamiento**"
      ]
    },
    {
      "cell_type": "code",
      "execution_count": null,
      "metadata": {
        "id": "pZ5hav7dvqjG"
      },
      "outputs": [],
      "source": [
        "class Train(pl.LightningModule):\n",
        "    # creamos la estructura de la red\n",
        "    def __init__(self,model):\n",
        "        super().__init__()\n",
        "        self.model = model\n",
        "   # Paso de entrenamiento\n",
        "    def training_step(self, batch, batch_idx):\n",
        "        loss,acc = self._shared_eval_step(batch, batch_idx)\n",
        "        self.log(\"train_loss\", loss, prog_bar=True)\n",
        "        self.log(\"train_acc\", acc, prog_bar=True)\n",
        "        return loss\n",
        "    # Paso de validacion\n",
        "    def validation_step(self, batch, batch_idx):\n",
        "        loss,acc = self._shared_eval_step(batch, batch_idx)\n",
        "        self.log(\"val_loss\", loss, prog_bar=True)\n",
        "        self.log(\"val_acc\", acc, prog_bar=True)\n",
        "        return loss\n",
        "    # Funcion para evaluar el modelo y la perdida\n",
        "    def _shared_eval_step(self,batch,batch_idx):\n",
        "        x, y  = batch\n",
        "        y_hat = self.model(x)\n",
        "        loss = CELoss(y_hat, y.type(torch.LongTensor))\n",
        "        acc = accuracy(y_hat, y.type(torch.LongTensor))\n",
        "        return loss, acc\n",
        "    # Configuracion del optimizador\n",
        "    def configure_optimizers(self):\n",
        "        return torch.optim.Adam(self.model.parameters())"
      ]
    },
    {
      "cell_type": "markdown",
      "metadata": {
        "id": "Y-5vDOLSvqjH"
      },
      "source": [
        "##  Ajustar el modelo"
      ]
    },
    {
      "cell_type": "code",
      "execution_count": null,
      "metadata": {
        "id": "M0gQZdFIvqjH"
      },
      "outputs": [],
      "source": [
        "data_module = DataModule() # Ejecutamos modulo de datos\n",
        "torch.manual_seed(0)\n",
        "model = Model() # Ejecutamos modelo\n",
        "trainer = pl.Trainer(max_epochs=200, progress_bar_refresh_rate=20) # Lamamos el entrenador\n",
        "task = Train(model)\n",
        "trainer.fit(task,data_module)"
      ]
    },
    {
      "cell_type": "code",
      "source": [
        "# Tablero de resultados\n",
        "%load_ext tensorboard\n",
        "%tensorboard --logdir lightning_logs/"
      ],
      "metadata": {
        "id": "m-MKlW038Puk"
      },
      "execution_count": null,
      "outputs": []
    },
    {
      "cell_type": "markdown",
      "source": [
        "# **Generacion de texto**"
      ],
      "metadata": {
        "id": "v3MyAH9o7uww"
      }
    },
    {
      "cell_type": "code",
      "source": [
        "seed_text = \"Who are you, so too cruel?\"\n",
        "next_words = 100\n",
        "  \n",
        "for _ in range(next_words):\n",
        "    token_list = tokenizer.texts_to_sequences([seed_text])[0]\n",
        "    token_list = pad_sequences([token_list], maxlen=max_sequence_len-1, padding='pre')\n",
        "    predicted = model.forward(torch.tensor(token_list.astype(np.float32))).detach().numpy().transpose()[0]\n",
        "    output_word = \"\"\n",
        "    for word, index in tokenizer.word_index.items():\n",
        "        if index == predicted:\n",
        "            output_word = word\n",
        "            break\n",
        "    seed_text += \" \" + output_word\n",
        "print(seed_text)"
      ],
      "metadata": {
        "id": "6dHlDubE7tT2"
      },
      "execution_count": null,
      "outputs": []
    }
  ],
  "metadata": {
    "interpreter": {
      "hash": "94e7570899995adebab4ebab5cd3752e227f734c99b4f5f3f0d280f8bef09b63"
    },
    "kernelspec": {
      "display_name": "Python 3.9.7 ('IA')",
      "language": "python",
      "name": "python3"
    },
    "language_info": {
      "codemirror_mode": {
        "name": "ipython",
        "version": 3
      },
      "file_extension": ".py",
      "mimetype": "text/x-python",
      "name": "python",
      "nbconvert_exporter": "python",
      "pygments_lexer": "ipython3",
      "version": "3.9.7"
    },
    "orig_nbformat": 4,
    "colab": {
      "name": "Gasolina.ipynb",
      "provenance": []
    }
  },
  "nbformat": 4,
  "nbformat_minor": 0
}